{
 "cells": [
  {
   "cell_type": "markdown",
   "metadata": {},
   "source": [
    "# 0. EDA"
   ]
  },
  {
   "cell_type": "code",
   "execution_count": 1,
   "metadata": {
    "ExecuteTime": {
     "end_time": "2025-09-02T03:30:15.068092Z",
     "start_time": "2025-09-02T03:30:15.065472Z"
    }
   },
   "outputs": [],
   "source": [
    "import pyarrow.parquet as pq\n",
    "import pandas as pd\n",
    "import duckdb\n",
    "import polars as pl\n",
    "\n",
    "file_path = \"./data/parquet/2025-04.parquet\"\n",
    "dir_path = \"./data/parquet/*\"\n",
    "train_seq_len = 3 "
   ]
  },
  {
   "cell_type": "markdown",
   "metadata": {},
   "source": [
    "### 1. duckDB: 실제 서비스, 혹은 train pipeline에서 속도를 개선하기 위해선 duckDB가 필요할지도 모름."
   ]
  },
  {
   "cell_type": "code",
   "execution_count": 2,
   "metadata": {
    "ExecuteTime": {
     "end_time": "2025-09-02T03:30:15.944338Z",
     "start_time": "2025-09-02T03:30:15.855903Z"
    }
   },
   "outputs": [
    {
     "data": {
      "text/plain": [
       "[('s856b0b83b6',\n",
       "  's856b0b83b6',\n",
       "  'desktop',\n",
       "  2,\n",
       "  'https://www.beusable.net/ko/',\n",
       "  0,\n",
       "  False,\n",
       "  'Direct',\n",
       "  '07mYi17Q',\n",
       "  False,\n",
       "  nan,\n",
       "  True,\n",
       "  False,\n",
       "  0,\n",
       "  False,\n",
       "  '2025-04-01',\n",
       "  '2025-04-01T00',\n",
       "  0,\n",
       "  1,\n",
       "  nan,\n",
       "  nan,\n",
       "  nan,\n",
       "  nan,\n",
       "  nan,\n",
       "  4930,\n",
       "  -1,\n",
       "  '',\n",
       "  None,\n",
       "  -1,\n",
       "  1,\n",
       "  None,\n",
       "  0,\n",
       "  0,\n",
       "  0,\n",
       "  'ko',\n",
       "  80),\n",
       " ('s856b0b83b6',\n",
       "  's856b0b83b6',\n",
       "  'desktop',\n",
       "  146,\n",
       "  'https://www.beusable.net/ko/uxheatmap',\n",
       "  0,\n",
       "  False,\n",
       "  'Direct',\n",
       "  '2qVgJwlW',\n",
       "  False,\n",
       "  2872.0,\n",
       "  False,\n",
       "  True,\n",
       "  0,\n",
       "  False,\n",
       "  '2025-04-01',\n",
       "  '2025-04-01T00',\n",
       "  0,\n",
       "  1,\n",
       "  nan,\n",
       "  nan,\n",
       "  nan,\n",
       "  nan,\n",
       "  nan,\n",
       "  95149,\n",
       "  -1,\n",
       "  '',\n",
       "  None,\n",
       "  -1,\n",
       "  3,\n",
       "  None,\n",
       "  0,\n",
       "  493,\n",
       "  0,\n",
       "  'ko',\n",
       "  97),\n",
       " ('s856b0b83b6',\n",
       "  's856b0b83b6',\n",
       "  'desktop',\n",
       "  125,\n",
       "  'https://www.beusable.net/signin',\n",
       "  1,\n",
       "  False,\n",
       "  'https://www.beusable.net/ko/uxheatmap',\n",
       "  '2qVgJwlW',\n",
       "  False,\n",
       "  1467.0,\n",
       "  False,\n",
       "  True,\n",
       "  0,\n",
       "  False,\n",
       "  '2025-04-01',\n",
       "  '2025-04-01T00',\n",
       "  1,\n",
       "  1,\n",
       "  nan,\n",
       "  nan,\n",
       "  nan,\n",
       "  nan,\n",
       "  nan,\n",
       "  95121,\n",
       "  95149,\n",
       "  'bd3432bd15',\n",
       "  '3c77e2fb4b',\n",
       "  3,\n",
       "  0,\n",
       "  '6085db4184',\n",
       "  0,\n",
       "  493,\n",
       "  0,\n",
       "  'signin',\n",
       "  97),\n",
       " ('s856b0b83b6',\n",
       "  's856b0b83b6',\n",
       "  'desktop',\n",
       "  125,\n",
       "  'https://www.beusable.net/signin#',\n",
       "  2,\n",
       "  False,\n",
       "  'https://www.beusable.net/signin',\n",
       "  '2qVgJwlW',\n",
       "  False,\n",
       "  408.0,\n",
       "  False,\n",
       "  True,\n",
       "  0,\n",
       "  False,\n",
       "  '2025-04-01',\n",
       "  '2025-04-01T00',\n",
       "  2,\n",
       "  1,\n",
       "  nan,\n",
       "  nan,\n",
       "  nan,\n",
       "  nan,\n",
       "  nan,\n",
       "  95121,\n",
       "  95121,\n",
       "  'ec034aa7d5',\n",
       "  '2231f7bd74',\n",
       "  0,\n",
       "  0,\n",
       "  '9904ed77bf',\n",
       "  0,\n",
       "  493,\n",
       "  0,\n",
       "  'signin',\n",
       "  97),\n",
       " ('s856b0b83b6',\n",
       "  's856b0b83b6',\n",
       "  'desktop',\n",
       "  127,\n",
       "  'https://www.beusable.net/my',\n",
       "  3,\n",
       "  False,\n",
       "  'https://www.beusable.net/signin#',\n",
       "  '2qVgJwlW',\n",
       "  False,\n",
       "  4154.0,\n",
       "  False,\n",
       "  True,\n",
       "  0,\n",
       "  False,\n",
       "  '2025-04-01',\n",
       "  '2025-04-01T00',\n",
       "  3,\n",
       "  1,\n",
       "  nan,\n",
       "  nan,\n",
       "  nan,\n",
       "  nan,\n",
       "  nan,\n",
       "  95123,\n",
       "  95121,\n",
       "  '255cdadf66',\n",
       "  'c8138fff68',\n",
       "  0,\n",
       "  0,\n",
       "  '9d23497802',\n",
       "  493,\n",
       "  493,\n",
       "  3,\n",
       "  'my',\n",
       "  97),\n",
       " ('s514a626c39',\n",
       "  's856b0b83b6',\n",
       "  'desktop',\n",
       "  4,\n",
       "  'https://tool.beusable.net/dashboard',\n",
       "  1,\n",
       "  False,\n",
       "  'https://www.beusable.net/my',\n",
       "  '2qVgJwlW',\n",
       "  False,\n",
       "  4749.0,\n",
       "  False,\n",
       "  True,\n",
       "  0,\n",
       "  False,\n",
       "  '2025-04-01',\n",
       "  '2025-04-01T00',\n",
       "  4,\n",
       "  1,\n",
       "  nan,\n",
       "  nan,\n",
       "  nan,\n",
       "  nan,\n",
       "  nan,\n",
       "  107630,\n",
       "  95123,\n",
       "  'd8e9c22218',\n",
       "  '92f19f54e0',\n",
       "  0,\n",
       "  0,\n",
       "  'a547f65d57',\n",
       "  0,\n",
       "  493,\n",
       "  0,\n",
       "  'dashboard',\n",
       "  97),\n",
       " ('s514a626c39',\n",
       "  's856b0b83b6',\n",
       "  'desktop',\n",
       "  3,\n",
       "  'https://tool.beusable.net/page/add',\n",
       "  2,\n",
       "  False,\n",
       "  'https://tool.beusable.net/dashboard',\n",
       "  '2qVgJwlW',\n",
       "  False,\n",
       "  nan,\n",
       "  True,\n",
       "  True,\n",
       "  0,\n",
       "  False,\n",
       "  '2025-04-01',\n",
       "  '2025-04-01T00',\n",
       "  5,\n",
       "  1,\n",
       "  nan,\n",
       "  nan,\n",
       "  nan,\n",
       "  nan,\n",
       "  nan,\n",
       "  107629,\n",
       "  107630,\n",
       "  '026f2770b2',\n",
       "  '5ce39ce87c',\n",
       "  0,\n",
       "  0,\n",
       "  'd4aea4013e',\n",
       "  0,\n",
       "  493,\n",
       "  0,\n",
       "  'page',\n",
       "  97),\n",
       " ('s856b0b83b6',\n",
       "  's856b0b83b6',\n",
       "  'desktop',\n",
       "  125,\n",
       "  'https://www.beusable.net/signin?code=signup_ok',\n",
       "  0,\n",
       "  False,\n",
       "  'Direct',\n",
       "  'bjzKSe6K',\n",
       "  False,\n",
       "  nan,\n",
       "  True,\n",
       "  False,\n",
       "  0,\n",
       "  False,\n",
       "  '2025-04-01',\n",
       "  '2025-04-01T00',\n",
       "  0,\n",
       "  1,\n",
       "  nan,\n",
       "  nan,\n",
       "  nan,\n",
       "  nan,\n",
       "  nan,\n",
       "  95121,\n",
       "  -1,\n",
       "  '',\n",
       "  None,\n",
       "  -1,\n",
       "  0,\n",
       "  None,\n",
       "  0,\n",
       "  0,\n",
       "  0,\n",
       "  'signin',\n",
       "  19),\n",
       " ('s856b0b83b6',\n",
       "  's856b0b83b6',\n",
       "  'desktop',\n",
       "  2,\n",
       "  'https://www.beusable.net/ko/',\n",
       "  0,\n",
       "  False,\n",
       "  'Direct',\n",
       "  'd7hnpV2g',\n",
       "  False,\n",
       "  nan,\n",
       "  True,\n",
       "  False,\n",
       "  0,\n",
       "  False,\n",
       "  '2025-04-01',\n",
       "  '2025-04-01T00',\n",
       "  0,\n",
       "  1,\n",
       "  nan,\n",
       "  nan,\n",
       "  nan,\n",
       "  nan,\n",
       "  nan,\n",
       "  4930,\n",
       "  -1,\n",
       "  '',\n",
       "  None,\n",
       "  -1,\n",
       "  1,\n",
       "  None,\n",
       "  0,\n",
       "  0,\n",
       "  0,\n",
       "  'ko',\n",
       "  76),\n",
       " ('s856b0b83b6',\n",
       "  's856b0b83b6',\n",
       "  'desktop',\n",
       "  1,\n",
       "  'https://www.beusable.net/blog/?p=3912',\n",
       "  0,\n",
       "  False,\n",
       "  'https://www.google.com/',\n",
       "  'h0ugeryN',\n",
       "  False,\n",
       "  nan,\n",
       "  True,\n",
       "  False,\n",
       "  0,\n",
       "  False,\n",
       "  '2025-04-01',\n",
       "  '2025-04-01T00',\n",
       "  0,\n",
       "  2,\n",
       "  nan,\n",
       "  nan,\n",
       "  nan,\n",
       "  nan,\n",
       "  nan,\n",
       "  4989,\n",
       "  -1,\n",
       "  '',\n",
       "  None,\n",
       "  -1,\n",
       "  0,\n",
       "  None,\n",
       "  0,\n",
       "  0,\n",
       "  0,\n",
       "  'blog',\n",
       "  62)]"
      ]
     },
     "execution_count": 2,
     "metadata": {},
     "output_type": "execute_result"
    }
   ],
   "source": [
    "con = duckdb.connect()\n",
    "con.execute(f\"\"\"CREATE TABLE data AS SELECT * FROM '{file_path}'\"\"\")\n",
    "con.execute(f\"SELECT * FROM data limit 10\").fetchall()"
   ]
  },
  {
   "cell_type": "markdown",
   "metadata": {},
   "source": [
    "### 2. polars: 가볍게 쓰기엔 얘가 더 좋을 듯. 일단 도즈언"
   ]
  },
  {
   "cell_type": "code",
   "execution_count": 3,
   "metadata": {
    "ExecuteTime": {
     "end_time": "2025-09-02T03:57:53.656323Z",
     "start_time": "2025-09-02T03:57:53.630771Z"
    }
   },
   "outputs": [
    {
     "data": {
      "text/html": [
       "<div><style>\n",
       ".dataframe > thead > tr,\n",
       ".dataframe > tbody > tr {\n",
       "  text-align: right;\n",
       "  white-space: pre-wrap;\n",
       "}\n",
       "</style>\n",
       "<small>shape: (20, 36)</small><table border=\"1\" class=\"dataframe\"><thead><tr><th>sid</th><th>parentSid</th><th>device</th><th>urlId</th><th>url</th><th>seq</th><th>useless</th><th>fullReferStr</th><th>sessionId</th><th>uTurnPoint</th><th>interval</th><th>lastOrder</th><th>exist</th><th>reloadCount</th><th>rollback</th><th>dateStr</th><th>dateHourStr</th><th>parentSeq</th><th>initialReferId</th><th>srcId</th><th>termId</th><th>campId</th><th>contId</th><th>medId</th><th>gUrlId</th><th>prevNodeId</th><th>nodePath</th><th>exactNodePath</th><th>prevCustomId</th><th>beuCustomId</th><th>nodeCustomPath</th><th>beuCustomUserId</th><th>beuCustomUserIdForFiltering</th><th>loginStatusChange</th><th>firstPathname</th><th>sampleNumb</th></tr><tr><td>str</td><td>str</td><td>str</td><td>i64</td><td>str</td><td>i64</td><td>bool</td><td>str</td><td>str</td><td>bool</td><td>f64</td><td>bool</td><td>bool</td><td>i64</td><td>bool</td><td>str</td><td>str</td><td>i64</td><td>i64</td><td>f64</td><td>f64</td><td>f64</td><td>f64</td><td>f64</td><td>i64</td><td>i64</td><td>str</td><td>str</td><td>i64</td><td>i64</td><td>str</td><td>i64</td><td>i64</td><td>i64</td><td>str</td><td>i64</td></tr></thead><tbody><tr><td>&quot;s856b0b83b6&quot;</td><td>&quot;s856b0b83b6&quot;</td><td>&quot;desktop&quot;</td><td>2</td><td>&quot;https://www.beusable.net/ko/&quot;</td><td>0</td><td>false</td><td>&quot;Direct&quot;</td><td>&quot;07mYi17Q&quot;</td><td>false</td><td>NaN</td><td>true</td><td>false</td><td>0</td><td>false</td><td>&quot;2025-04-01&quot;</td><td>&quot;2025-04-01T00&quot;</td><td>0</td><td>1</td><td>NaN</td><td>NaN</td><td>NaN</td><td>NaN</td><td>NaN</td><td>4930</td><td>-1</td><td>&quot;&quot;</td><td>null</td><td>-1</td><td>1</td><td>null</td><td>0</td><td>0</td><td>0</td><td>&quot;ko&quot;</td><td>80</td></tr><tr><td>&quot;s856b0b83b6&quot;</td><td>&quot;s856b0b83b6&quot;</td><td>&quot;desktop&quot;</td><td>146</td><td>&quot;https://www.beusable.net/ko/ux…</td><td>0</td><td>false</td><td>&quot;Direct&quot;</td><td>&quot;2qVgJwlW&quot;</td><td>false</td><td>2872.0</td><td>false</td><td>true</td><td>0</td><td>false</td><td>&quot;2025-04-01&quot;</td><td>&quot;2025-04-01T00&quot;</td><td>0</td><td>1</td><td>NaN</td><td>NaN</td><td>NaN</td><td>NaN</td><td>NaN</td><td>95149</td><td>-1</td><td>&quot;&quot;</td><td>null</td><td>-1</td><td>3</td><td>null</td><td>0</td><td>493</td><td>0</td><td>&quot;ko&quot;</td><td>97</td></tr><tr><td>&quot;s856b0b83b6&quot;</td><td>&quot;s856b0b83b6&quot;</td><td>&quot;desktop&quot;</td><td>125</td><td>&quot;https://www.beusable.net/signi…</td><td>0</td><td>false</td><td>&quot;Direct&quot;</td><td>&quot;bjzKSe6K&quot;</td><td>false</td><td>NaN</td><td>true</td><td>false</td><td>0</td><td>false</td><td>&quot;2025-04-01&quot;</td><td>&quot;2025-04-01T00&quot;</td><td>0</td><td>1</td><td>NaN</td><td>NaN</td><td>NaN</td><td>NaN</td><td>NaN</td><td>95121</td><td>-1</td><td>&quot;&quot;</td><td>null</td><td>-1</td><td>0</td><td>null</td><td>0</td><td>0</td><td>0</td><td>&quot;signin&quot;</td><td>19</td></tr><tr><td>&quot;s856b0b83b6&quot;</td><td>&quot;s856b0b83b6&quot;</td><td>&quot;desktop&quot;</td><td>2</td><td>&quot;https://www.beusable.net/ko/&quot;</td><td>0</td><td>false</td><td>&quot;Direct&quot;</td><td>&quot;d7hnpV2g&quot;</td><td>false</td><td>NaN</td><td>true</td><td>false</td><td>0</td><td>false</td><td>&quot;2025-04-01&quot;</td><td>&quot;2025-04-01T00&quot;</td><td>0</td><td>1</td><td>NaN</td><td>NaN</td><td>NaN</td><td>NaN</td><td>NaN</td><td>4930</td><td>-1</td><td>&quot;&quot;</td><td>null</td><td>-1</td><td>1</td><td>null</td><td>0</td><td>0</td><td>0</td><td>&quot;ko&quot;</td><td>76</td></tr><tr><td>&quot;s856b0b83b6&quot;</td><td>&quot;s856b0b83b6&quot;</td><td>&quot;desktop&quot;</td><td>1</td><td>&quot;https://www.beusable.net/blog/…</td><td>0</td><td>false</td><td>&quot;https://www.google.com/&quot;</td><td>&quot;h0ugeryN&quot;</td><td>false</td><td>NaN</td><td>true</td><td>false</td><td>0</td><td>false</td><td>&quot;2025-04-01&quot;</td><td>&quot;2025-04-01T00&quot;</td><td>0</td><td>2</td><td>NaN</td><td>NaN</td><td>NaN</td><td>NaN</td><td>NaN</td><td>4989</td><td>-1</td><td>&quot;&quot;</td><td>null</td><td>-1</td><td>0</td><td>null</td><td>0</td><td>0</td><td>0</td><td>&quot;blog&quot;</td><td>62</td></tr><tr><td>&hellip;</td><td>&hellip;</td><td>&hellip;</td><td>&hellip;</td><td>&hellip;</td><td>&hellip;</td><td>&hellip;</td><td>&hellip;</td><td>&hellip;</td><td>&hellip;</td><td>&hellip;</td><td>&hellip;</td><td>&hellip;</td><td>&hellip;</td><td>&hellip;</td><td>&hellip;</td><td>&hellip;</td><td>&hellip;</td><td>&hellip;</td><td>&hellip;</td><td>&hellip;</td><td>&hellip;</td><td>&hellip;</td><td>&hellip;</td><td>&hellip;</td><td>&hellip;</td><td>&hellip;</td><td>&hellip;</td><td>&hellip;</td><td>&hellip;</td><td>&hellip;</td><td>&hellip;</td><td>&hellip;</td><td>&hellip;</td><td>&hellip;</td><td>&hellip;</td></tr><tr><td>&quot;s856b0b83b6&quot;</td><td>&quot;s856b0b83b6&quot;</td><td>&quot;desktop&quot;</td><td>1</td><td>&quot;https://www.beusable.net/blog/…</td><td>0</td><td>false</td><td>&quot;https://search.naver.com/searc…</td><td>&quot;Nc9tVkco&quot;</td><td>false</td><td>NaN</td><td>true</td><td>false</td><td>0</td><td>false</td><td>&quot;2025-04-01&quot;</td><td>&quot;2025-04-01T00&quot;</td><td>0</td><td>2628</td><td>NaN</td><td>NaN</td><td>NaN</td><td>NaN</td><td>NaN</td><td>4989</td><td>-1</td><td>&quot;&quot;</td><td>null</td><td>-1</td><td>0</td><td>null</td><td>0</td><td>0</td><td>0</td><td>&quot;blog&quot;</td><td>19</td></tr><tr><td>&quot;s856b0b83b6&quot;</td><td>&quot;s856b0b83b6&quot;</td><td>&quot;desktop&quot;</td><td>125</td><td>&quot;https://www.beusable.net/signi…</td><td>0</td><td>false</td><td>&quot;https://analytics.beusable.net…</td><td>&quot;nOtPZSMJ&quot;</td><td>false</td><td>8687.0</td><td>false</td><td>false</td><td>0</td><td>false</td><td>&quot;2025-04-01&quot;</td><td>&quot;2025-04-01T00&quot;</td><td>0</td><td>409</td><td>NaN</td><td>NaN</td><td>NaN</td><td>NaN</td><td>NaN</td><td>95121</td><td>-1</td><td>&quot;&quot;</td><td>null</td><td>-1</td><td>0</td><td>null</td><td>0</td><td>222</td><td>0</td><td>&quot;signin&quot;</td><td>79</td></tr><tr><td>&quot;s856b0b83b6&quot;</td><td>&quot;s856b0b83b6&quot;</td><td>&quot;desktop&quot;</td><td>1</td><td>&quot;https://www.beusable.net/blog/…</td><td>0</td><td>false</td><td>&quot;https://www.google.com/&quot;</td><td>&quot;oBScwuWD&quot;</td><td>false</td><td>NaN</td><td>true</td><td>false</td><td>0</td><td>false</td><td>&quot;2025-04-01&quot;</td><td>&quot;2025-04-01T00&quot;</td><td>0</td><td>2</td><td>NaN</td><td>NaN</td><td>NaN</td><td>NaN</td><td>NaN</td><td>4989</td><td>-1</td><td>&quot;&quot;</td><td>null</td><td>-1</td><td>0</td><td>null</td><td>0</td><td>0</td><td>0</td><td>&quot;blog&quot;</td><td>24</td></tr><tr><td>&quot;s856b0b83b6&quot;</td><td>&quot;s856b0b83b6&quot;</td><td>&quot;desktop&quot;</td><td>125</td><td>&quot;https://www.beusable.net/signi…</td><td>0</td><td>false</td><td>&quot;Direct&quot;</td><td>&quot;T3BkWFW7&quot;</td><td>false</td><td>NaN</td><td>true</td><td>false</td><td>0</td><td>false</td><td>&quot;2025-04-01&quot;</td><td>&quot;2025-04-01T00&quot;</td><td>0</td><td>1</td><td>NaN</td><td>NaN</td><td>NaN</td><td>NaN</td><td>NaN</td><td>95121</td><td>-1</td><td>&quot;&quot;</td><td>null</td><td>-1</td><td>0</td><td>null</td><td>0</td><td>0</td><td>0</td><td>&quot;signin&quot;</td><td>59</td></tr><tr><td>&quot;s856b0b83b6&quot;</td><td>&quot;s856b0b83b6&quot;</td><td>&quot;tablet&quot;</td><td>125</td><td>&quot;https://www.beusable.net/signi…</td><td>0</td><td>false</td><td>&quot;android-app://com.google.andro…</td><td>&quot;8YdIEBqX&quot;</td><td>false</td><td>10182.0</td><td>false</td><td>false</td><td>0</td><td>false</td><td>&quot;2025-04-01&quot;</td><td>&quot;2025-04-01T00&quot;</td><td>0</td><td>2629</td><td>NaN</td><td>NaN</td><td>NaN</td><td>NaN</td><td>NaN</td><td>95121</td><td>-1</td><td>&quot;&quot;</td><td>null</td><td>-1</td><td>0</td><td>null</td><td>0</td><td>0</td><td>0</td><td>&quot;signin&quot;</td><td>99</td></tr></tbody></table></div>"
      ],
      "text/plain": [
       "shape: (20, 36)\n",
       "┌────────────┬────────────┬─────────┬───────┬───┬────────────┬────────────┬────────────┬───────────┐\n",
       "│ sid        ┆ parentSid  ┆ device  ┆ urlId ┆ … ┆ beuCustomU ┆ loginStatu ┆ firstPathn ┆ sampleNum │\n",
       "│ ---        ┆ ---        ┆ ---     ┆ ---   ┆   ┆ serIdForFi ┆ sChange    ┆ ame        ┆ b         │\n",
       "│ str        ┆ str        ┆ str     ┆ i64   ┆   ┆ ltering    ┆ ---        ┆ ---        ┆ ---       │\n",
       "│            ┆            ┆         ┆       ┆   ┆ ---        ┆ i64        ┆ str        ┆ i64       │\n",
       "│            ┆            ┆         ┆       ┆   ┆ i64        ┆            ┆            ┆           │\n",
       "╞════════════╪════════════╪═════════╪═══════╪═══╪════════════╪════════════╪════════════╪═══════════╡\n",
       "│ s856b0b83b ┆ s856b0b83b ┆ desktop ┆ 2     ┆ … ┆ 0          ┆ 0          ┆ ko         ┆ 80        │\n",
       "│ 6          ┆ 6          ┆         ┆       ┆   ┆            ┆            ┆            ┆           │\n",
       "│ s856b0b83b ┆ s856b0b83b ┆ desktop ┆ 146   ┆ … ┆ 493        ┆ 0          ┆ ko         ┆ 97        │\n",
       "│ 6          ┆ 6          ┆         ┆       ┆   ┆            ┆            ┆            ┆           │\n",
       "│ s856b0b83b ┆ s856b0b83b ┆ desktop ┆ 125   ┆ … ┆ 0          ┆ 0          ┆ signin     ┆ 19        │\n",
       "│ 6          ┆ 6          ┆         ┆       ┆   ┆            ┆            ┆            ┆           │\n",
       "│ s856b0b83b ┆ s856b0b83b ┆ desktop ┆ 2     ┆ … ┆ 0          ┆ 0          ┆ ko         ┆ 76        │\n",
       "│ 6          ┆ 6          ┆         ┆       ┆   ┆            ┆            ┆            ┆           │\n",
       "│ s856b0b83b ┆ s856b0b83b ┆ desktop ┆ 1     ┆ … ┆ 0          ┆ 0          ┆ blog       ┆ 62        │\n",
       "│ 6          ┆ 6          ┆         ┆       ┆   ┆            ┆            ┆            ┆           │\n",
       "│ …          ┆ …          ┆ …       ┆ …     ┆ … ┆ …          ┆ …          ┆ …          ┆ …         │\n",
       "│ s856b0b83b ┆ s856b0b83b ┆ desktop ┆ 1     ┆ … ┆ 0          ┆ 0          ┆ blog       ┆ 19        │\n",
       "│ 6          ┆ 6          ┆         ┆       ┆   ┆            ┆            ┆            ┆           │\n",
       "│ s856b0b83b ┆ s856b0b83b ┆ desktop ┆ 125   ┆ … ┆ 222        ┆ 0          ┆ signin     ┆ 79        │\n",
       "│ 6          ┆ 6          ┆         ┆       ┆   ┆            ┆            ┆            ┆           │\n",
       "│ s856b0b83b ┆ s856b0b83b ┆ desktop ┆ 1     ┆ … ┆ 0          ┆ 0          ┆ blog       ┆ 24        │\n",
       "│ 6          ┆ 6          ┆         ┆       ┆   ┆            ┆            ┆            ┆           │\n",
       "│ s856b0b83b ┆ s856b0b83b ┆ desktop ┆ 125   ┆ … ┆ 0          ┆ 0          ┆ signin     ┆ 59        │\n",
       "│ 6          ┆ 6          ┆         ┆       ┆   ┆            ┆            ┆            ┆           │\n",
       "│ s856b0b83b ┆ s856b0b83b ┆ tablet  ┆ 125   ┆ … ┆ 0          ┆ 0          ┆ signin     ┆ 99        │\n",
       "│ 6          ┆ 6          ┆         ┆       ┆   ┆            ┆            ┆            ┆           │\n",
       "└────────────┴────────────┴─────────┴───────┴───┴────────────┴────────────┴────────────┴───────────┘"
      ]
     },
     "execution_count": 3,
     "metadata": {},
     "output_type": "execute_result"
    }
   ],
   "source": [
    "# read parquet file with polars\n",
    "df_test = pl.read_parquet(file_path)\n",
    "\n",
    "# sort by seq for group by by sequence order\n",
    "df_test_sort = df_test.sort(\"seq\")\n",
    "df_test_sort.head(20)"
   ]
  },
  {
   "cell_type": "code",
   "execution_count": 4,
   "metadata": {
    "ExecuteTime": {
     "end_time": "2025-09-02T03:57:54.322Z",
     "start_time": "2025-09-02T03:57:54.175323Z"
    }
   },
   "outputs": [
    {
     "data": {
      "text/html": [
       "<div><style>\n",
       ".dataframe > thead > tr,\n",
       ".dataframe > tbody > tr {\n",
       "  text-align: right;\n",
       "  white-space: pre-wrap;\n",
       "}\n",
       "</style>\n",
       "<small>shape: (1_172_068, 22)</small><table border=\"1\" class=\"dataframe\"><thead><tr><th>sid</th><th>parentSid</th><th>device</th><th>urlId</th><th>url</th><th>seq</th><th>useless</th><th>fullReferStr</th><th>sessionId</th><th>uTurnPoint</th><th>interval</th><th>lastOrder</th><th>exist</th><th>reloadCount</th><th>rollback</th><th>dateStr</th><th>dateHourStr</th><th>parentSeq</th><th>initialReferId</th><th>gUrlId</th><th>prevNodeId</th><th>nodePath</th></tr><tr><td>str</td><td>str</td><td>str</td><td>i64</td><td>str</td><td>i64</td><td>bool</td><td>str</td><td>str</td><td>bool</td><td>f64</td><td>bool</td><td>bool</td><td>i64</td><td>bool</td><td>str</td><td>str</td><td>i64</td><td>i64</td><td>i64</td><td>i64</td><td>str</td></tr></thead><tbody><tr><td>&quot;s856b0b83b6&quot;</td><td>&quot;s856b0b83b6&quot;</td><td>&quot;phone&quot;</td><td>1</td><td>&quot;https://www.beusable.net/blog/…</td><td>0</td><td>false</td><td>&quot;https://www.google.com/&quot;</td><td>&quot;w1SrJUUb&quot;</td><td>false</td><td>NaN</td><td>true</td><td>true</td><td>0</td><td>false</td><td>&quot;2024-10-01&quot;</td><td>&quot;2024-10-01T00&quot;</td><td>0</td><td>2</td><td>4989</td><td>-1</td><td>&quot;&quot;</td></tr><tr><td>&quot;s856b0b83b6&quot;</td><td>&quot;s856b0b83b6&quot;</td><td>&quot;phone&quot;</td><td>13</td><td>&quot;https://www.beusable.net/en/&quot;</td><td>0</td><td>false</td><td>&quot;https://www.google.com/&quot;</td><td>&quot;ZuGIxkf8&quot;</td><td>false</td><td>NaN</td><td>true</td><td>false</td><td>0</td><td>false</td><td>&quot;2024-10-01&quot;</td><td>&quot;2024-10-01T00&quot;</td><td>0</td><td>2</td><td>4986</td><td>-1</td><td>&quot;&quot;</td></tr><tr><td>&quot;s514a626c39&quot;</td><td>&quot;s856b0b83b6&quot;</td><td>&quot;desktop&quot;</td><td>4</td><td>&quot;https://tool.beusable.net/dash…</td><td>1</td><td>false</td><td>&quot;https://www.beusable.net/my&quot;</td><td>&quot;1VNYTFN4&quot;</td><td>false</td><td>78605.0</td><td>false</td><td>false</td><td>0</td><td>false</td><td>&quot;2024-10-01&quot;</td><td>&quot;2024-10-01T00&quot;</td><td>4</td><td>1</td><td>107630</td><td>95123</td><td>&quot;416092b9f0&quot;</td></tr><tr><td>&quot;s514a626c39&quot;</td><td>&quot;s856b0b83b6&quot;</td><td>&quot;desktop&quot;</td><td>32</td><td>&quot;https://tool.beusable.net/user…</td><td>2</td><td>false</td><td>&quot;https://tool.beusable.net/dash…</td><td>&quot;1VNYTFN4&quot;</td><td>false</td><td>52116.0</td><td>false</td><td>false</td><td>0</td><td>false</td><td>&quot;2024-10-01&quot;</td><td>&quot;2024-10-01T00&quot;</td><td>5</td><td>1</td><td>107663</td><td>107630</td><td>&quot;c99e1ae00b&quot;</td></tr><tr><td>&quot;s514a626c39&quot;</td><td>&quot;s856b0b83b6&quot;</td><td>&quot;desktop&quot;</td><td>50</td><td>&quot;https://tool.beusable.net/user…</td><td>3</td><td>false</td><td>&quot;https://tool.beusable.net/user…</td><td>&quot;1VNYTFN4&quot;</td><td>false</td><td>546.0</td><td>false</td><td>false</td><td>0</td><td>false</td><td>&quot;2024-10-01&quot;</td><td>&quot;2024-10-01T00&quot;</td><td>6</td><td>1</td><td>107683</td><td>107663</td><td>&quot;c1aec9d5d9&quot;</td></tr><tr><td>&hellip;</td><td>&hellip;</td><td>&hellip;</td><td>&hellip;</td><td>&hellip;</td><td>&hellip;</td><td>&hellip;</td><td>&hellip;</td><td>&hellip;</td><td>&hellip;</td><td>&hellip;</td><td>&hellip;</td><td>&hellip;</td><td>&hellip;</td><td>&hellip;</td><td>&hellip;</td><td>&hellip;</td><td>&hellip;</td><td>&hellip;</td><td>&hellip;</td><td>&hellip;</td><td>&hellip;</td></tr><tr><td>&quot;s26d51d1895&quot;</td><td>&quot;s856b0b83b6&quot;</td><td>&quot;phone&quot;</td><td>2715</td><td>&quot;https://forum.beusable.net/ko/…</td><td>0</td><td>false</td><td>&quot;https://www.google.co.kr/&quot;</td><td>&quot;QoPprvUy&quot;</td><td>false</td><td>NaN</td><td>true</td><td>false</td><td>0</td><td>false</td><td>&quot;2024-05-31&quot;</td><td>&quot;2024-05-31T23&quot;</td><td>0</td><td>4</td><td>169335</td><td>-1</td><td>&quot;&quot;</td></tr><tr><td>&quot;s856b0b83b6&quot;</td><td>&quot;s856b0b83b6&quot;</td><td>&quot;phone&quot;</td><td>149</td><td>&quot;https://www.beusable.net/ko/wh…</td><td>1</td><td>true</td><td>&quot;https://solomon.beusable.net/b…</td><td>&quot;z5nuUBpY&quot;</td><td>true</td><td>22.0</td><td>false</td><td>false</td><td>0</td><td>false</td><td>&quot;2024-05-31&quot;</td><td>&quot;2024-05-31T23&quot;</td><td>2</td><td>124</td><td>95162</td><td>171992</td><td>&quot;1985997f43&quot;</td></tr><tr><td>&quot;s856b0b83b6&quot;</td><td>&quot;s856b0b83b6&quot;</td><td>&quot;phone&quot;</td><td>2</td><td>&quot;https://www.beusable.net/ko/&quot;</td><td>0</td><td>false</td><td>&quot;https://m.search.naver.com/&quot;</td><td>&quot;z5nuUBpY&quot;</td><td>false</td><td>556.0</td><td>false</td><td>false</td><td>0</td><td>false</td><td>&quot;2024-05-31&quot;</td><td>&quot;2024-05-31T23&quot;</td><td>0</td><td>124</td><td>4930</td><td>-1</td><td>&quot;&quot;</td></tr><tr><td>&quot;s4bc12662fc&quot;</td><td>&quot;s856b0b83b6&quot;</td><td>&quot;phone&quot;</td><td>5</td><td>&quot;https://solomon.beusable.net/b…</td><td>1</td><td>false</td><td>&quot;https://www.beusable.net/ko/&quot;</td><td>&quot;z5nuUBpY&quot;</td><td>false</td><td>4949.0</td><td>false</td><td>false</td><td>0</td><td>false</td><td>&quot;2024-05-31&quot;</td><td>&quot;2024-05-31T23&quot;</td><td>1</td><td>124</td><td>171992</td><td>4930</td><td>&quot;637e15cea9&quot;</td></tr><tr><td>&quot;s4bc12662fc&quot;</td><td>&quot;s856b0b83b6&quot;</td><td>&quot;phone&quot;</td><td>5</td><td>&quot;https://solomon.beusable.net/b…</td><td>0</td><td>false</td><td>&quot;https://www.beusable.net/ko/wh…</td><td>&quot;z5nuUBpY&quot;</td><td>false</td><td>NaN</td><td>true</td><td>false</td><td>0</td><td>true</td><td>&quot;2024-05-31&quot;</td><td>&quot;2024-05-31T23&quot;</td><td>1</td><td>124</td><td>171992</td><td>4930</td><td>&quot;637e15cea9&quot;</td></tr></tbody></table></div>"
      ],
      "text/plain": [
       "shape: (1_172_068, 22)\n",
       "┌─────────────┬─────────────┬─────────┬───────┬───┬─────────────┬────────┬────────────┬────────────┐\n",
       "│ sid         ┆ parentSid   ┆ device  ┆ urlId ┆ … ┆ initialRefe ┆ gUrlId ┆ prevNodeId ┆ nodePath   │\n",
       "│ ---         ┆ ---         ┆ ---     ┆ ---   ┆   ┆ rId         ┆ ---    ┆ ---        ┆ ---        │\n",
       "│ str         ┆ str         ┆ str     ┆ i64   ┆   ┆ ---         ┆ i64    ┆ i64        ┆ str        │\n",
       "│             ┆             ┆         ┆       ┆   ┆ i64         ┆        ┆            ┆            │\n",
       "╞═════════════╪═════════════╪═════════╪═══════╪═══╪═════════════╪════════╪════════════╪════════════╡\n",
       "│ s856b0b83b6 ┆ s856b0b83b6 ┆ phone   ┆ 1     ┆ … ┆ 2           ┆ 4989   ┆ -1         ┆            │\n",
       "│ s856b0b83b6 ┆ s856b0b83b6 ┆ phone   ┆ 13    ┆ … ┆ 2           ┆ 4986   ┆ -1         ┆            │\n",
       "│ s514a626c39 ┆ s856b0b83b6 ┆ desktop ┆ 4     ┆ … ┆ 1           ┆ 107630 ┆ 95123      ┆ 416092b9f0 │\n",
       "│ s514a626c39 ┆ s856b0b83b6 ┆ desktop ┆ 32    ┆ … ┆ 1           ┆ 107663 ┆ 107630     ┆ c99e1ae00b │\n",
       "│ s514a626c39 ┆ s856b0b83b6 ┆ desktop ┆ 50    ┆ … ┆ 1           ┆ 107683 ┆ 107663     ┆ c1aec9d5d9 │\n",
       "│ …           ┆ …           ┆ …       ┆ …     ┆ … ┆ …           ┆ …      ┆ …          ┆ …          │\n",
       "│ s26d51d1895 ┆ s856b0b83b6 ┆ phone   ┆ 2715  ┆ … ┆ 4           ┆ 169335 ┆ -1         ┆            │\n",
       "│ s856b0b83b6 ┆ s856b0b83b6 ┆ phone   ┆ 149   ┆ … ┆ 124         ┆ 95162  ┆ 171992     ┆ 1985997f43 │\n",
       "│ s856b0b83b6 ┆ s856b0b83b6 ┆ phone   ┆ 2     ┆ … ┆ 124         ┆ 4930   ┆ -1         ┆            │\n",
       "│ s4bc12662fc ┆ s856b0b83b6 ┆ phone   ┆ 5     ┆ … ┆ 124         ┆ 171992 ┆ 4930       ┆ 637e15cea9 │\n",
       "│ s4bc12662fc ┆ s856b0b83b6 ┆ phone   ┆ 5     ┆ … ┆ 124         ┆ 171992 ┆ 4930       ┆ 637e15cea9 │\n",
       "└─────────────┴─────────────┴─────────┴───────┴───┴─────────────┴────────┴────────────┴────────────┘"
      ]
     },
     "execution_count": 4,
     "metadata": {},
     "output_type": "execute_result"
    }
   ],
   "source": [
    "# get data of 1 year!\n",
    "\n",
    "from glob import glob\n",
    "\n",
    "filenames = glob(dir_path)\n",
    "common_columns = ['sid', 'parentSid', 'device', 'urlId', 'url', 'seq', 'useless', 'fullReferStr', 'sessionId', 'uTurnPoint', 'interval', 'lastOrder', 'exist', 'reloadCount', 'rollback', 'dateStr', 'dateHourStr', 'parentSeq', 'initialReferId', 'gUrlId', 'prevNodeId', 'nodePath']\n",
    "for enum, filename in enumerate(filenames):\n",
    "    if enum == 0:\n",
    "        df = pl.read_parquet(filename, columns=common_columns)\n",
    "    else:\n",
    "        df_under = pl.read_parquet(filename, columns=common_columns)\n",
    "        df = pl.concat([df, df_under], how=\"vertical\")\n",
    "\n",
    "df"
   ]
  },
  {
   "cell_type": "code",
   "execution_count": 5,
   "metadata": {
    "ExecuteTime": {
     "end_time": "2025-09-02T04:22:17.999644Z",
     "start_time": "2025-09-02T04:22:17.981236Z"
    }
   },
   "outputs": [
    {
     "name": "stdout",
     "output_type": "stream",
     "text": [
      "\n",
      "    시퀀스 평균: 9.529723531399203,\n",
      "    시퀀스 중앙값: 2.0,\n",
      "    시퀀스 최대값: 1303,\n",
      "    시퀀스 최소값: 0,\n",
      "    시퀀스 분산: 1145.5088706461431,\n",
      "    시퀀스 표준편차: 33.84536704847715\n",
      "\n",
      "    시퀀스 describe: shape: (9, 2)\n",
      "┌────────────┬────────────┐\n",
      "│ statistic  ┆ value      │\n",
      "│ ---        ┆ ---        │\n",
      "│ str        ┆ f64        │\n",
      "╞════════════╪════════════╡\n",
      "│ count      ┆ 1.172068e6 │\n",
      "│ null_count ┆ 0.0        │\n",
      "│ mean       ┆ 9.529724   │\n",
      "│ std        ┆ 33.845367  │\n",
      "│ min        ┆ 0.0        │\n",
      "│ 25%        ┆ 0.0        │\n",
      "│ 50%        ┆ 2.0        │\n",
      "│ 75%        ┆ 8.0        │\n",
      "│ max        ┆ 1303.0     │\n",
      "└────────────┴────────────┘\n",
      "\n"
     ]
    }
   ],
   "source": [
    "# 1. seq stat\n",
    "print(f\"\"\"\n",
    "    시퀀스 평균: {df['parentSeq'].mean()},\n",
    "    시퀀스 중앙값: {df['parentSeq'].median()},\n",
    "    시퀀스 최대값: {df['parentSeq'].max()},\n",
    "    시퀀스 최소값: {df['parentSeq'].min()},\n",
    "    시퀀스 분산: {df['parentSeq'].var()},\n",
    "    시퀀스 표준편차: {df['parentSeq'].std()}\n",
    "\n",
    "    시퀀스 describe: {df['parentSeq'].describe()}\n",
    "\"\"\")"
   ]
  },
  {
   "cell_type": "code",
   "execution_count": 6,
   "metadata": {
    "ExecuteTime": {
     "end_time": "2025-09-02T03:57:55.366133Z",
     "start_time": "2025-09-02T03:57:55.356211Z"
    }
   },
   "outputs": [
    {
     "data": {
      "text/html": [
       "<div><style>\n",
       ".dataframe > thead > tr,\n",
       ".dataframe > tbody > tr {\n",
       "  text-align: right;\n",
       "  white-space: pre-wrap;\n",
       "}\n",
       "</style>\n",
       "<small>shape: (10, 22)</small><table border=\"1\" class=\"dataframe\"><thead><tr><th>sid</th><th>parentSid</th><th>device</th><th>urlId</th><th>url</th><th>seq</th><th>useless</th><th>fullReferStr</th><th>sessionId</th><th>uTurnPoint</th><th>interval</th><th>lastOrder</th><th>exist</th><th>reloadCount</th><th>rollback</th><th>dateStr</th><th>dateHourStr</th><th>parentSeq</th><th>initialReferId</th><th>gUrlId</th><th>prevNodeId</th><th>nodePath</th></tr><tr><td>str</td><td>str</td><td>str</td><td>i64</td><td>str</td><td>i64</td><td>bool</td><td>str</td><td>str</td><td>bool</td><td>f64</td><td>bool</td><td>bool</td><td>i64</td><td>bool</td><td>str</td><td>str</td><td>i64</td><td>i64</td><td>i64</td><td>i64</td><td>str</td></tr></thead><tbody><tr><td>&quot;s514a626c39&quot;</td><td>&quot;s856b0b83b6&quot;</td><td>&quot;desktop&quot;</td><td>4</td><td>&quot;https://tool.beusable.net/dash…</td><td>0</td><td>false</td><td>&quot;https://www.beusable.net/&quot;</td><td>&quot;jakPuFPx&quot;</td><td>false</td><td>5268.0</td><td>false</td><td>true</td><td>0</td><td>false</td><td>&quot;2025-04-08&quot;</td><td>&quot;2025-04-08T16&quot;</td><td>0</td><td>19</td><td>107630</td><td>-1</td><td>&quot;&quot;</td></tr><tr><td>&quot;s514a626c39&quot;</td><td>&quot;s856b0b83b6&quot;</td><td>&quot;desktop&quot;</td><td>82376</td><td>&quot;https://tool.beusable.net/repo…</td><td>1</td><td>false</td><td>&quot;https://tool.beusable.net/dash…</td><td>&quot;jakPuFPx&quot;</td><td>false</td><td>NaN</td><td>true</td><td>true</td><td>0</td><td>false</td><td>&quot;2025-04-08&quot;</td><td>&quot;2025-04-08T16&quot;</td><td>1</td><td>19</td><td>203220</td><td>107630</td><td>&quot;b3ecf4b012&quot;</td></tr><tr><td>&quot;s856b0b83b6&quot;</td><td>&quot;s856b0b83b6&quot;</td><td>&quot;desktop&quot;</td><td>125</td><td>&quot;https://www.beusable.net/signi…</td><td>2</td><td>false</td><td>&quot;https://tool.beusable.net/dash…</td><td>&quot;jakPuFPx&quot;</td><td>false</td><td>735.0</td><td>false</td><td>true</td><td>0</td><td>false</td><td>&quot;2025-04-10&quot;</td><td>&quot;2025-04-10T11&quot;</td><td>2</td><td>3</td><td>95121</td><td>-1</td><td>&quot;&quot;</td></tr><tr><td>&quot;s856b0b83b6&quot;</td><td>&quot;s856b0b83b6&quot;</td><td>&quot;desktop&quot;</td><td>127</td><td>&quot;https://www.beusable.net/my&quot;</td><td>3</td><td>false</td><td>&quot;https://www.beusable.net/signi…</td><td>&quot;jakPuFPx&quot;</td><td>false</td><td>2008.0</td><td>false</td><td>true</td><td>0</td><td>false</td><td>&quot;2025-04-10&quot;</td><td>&quot;2025-04-10T11&quot;</td><td>3</td><td>3</td><td>95123</td><td>95121</td><td>&quot;5d18e7a4b4&quot;</td></tr><tr><td>&quot;s514a626c39&quot;</td><td>&quot;s856b0b83b6&quot;</td><td>&quot;desktop&quot;</td><td>4</td><td>&quot;https://tool.beusable.net/dash…</td><td>1</td><td>false</td><td>&quot;https://www.beusable.net/my&quot;</td><td>&quot;jakPuFPx&quot;</td><td>false</td><td>13532.0</td><td>false</td><td>true</td><td>0</td><td>false</td><td>&quot;2025-04-10&quot;</td><td>&quot;2025-04-10T11&quot;</td><td>4</td><td>19</td><td>107630</td><td>95123</td><td>&quot;95d2ebe4ff&quot;</td></tr><tr><td>&quot;s26d51d1895&quot;</td><td>&quot;s856b0b83b6&quot;</td><td>&quot;desktop&quot;</td><td>4294</td><td>&quot;https://forum.beusable.net/ko/…</td><td>1</td><td>false</td><td>&quot;https://tool.beusable.net/dash…</td><td>&quot;jakPuFPx&quot;</td><td>false</td><td>75645.0</td><td>false</td><td>true</td><td>0</td><td>false</td><td>&quot;2025-04-10&quot;</td><td>&quot;2025-04-10T11&quot;</td><td>5</td><td>3</td><td>203904</td><td>107630</td><td>&quot;bfae449377&quot;</td></tr><tr><td>&quot;s514a626c39&quot;</td><td>&quot;s856b0b83b6&quot;</td><td>&quot;desktop&quot;</td><td>4</td><td>&quot;https://tool.beusable.net/dash…</td><td>2</td><td>false</td><td>&quot;https://forum.beusable.net/ko/…</td><td>&quot;jakPuFPx&quot;</td><td>false</td><td>257737.0</td><td>false</td><td>true</td><td>0</td><td>false</td><td>&quot;2025-04-10&quot;</td><td>&quot;2025-04-10T11&quot;</td><td>6</td><td>19</td><td>107630</td><td>203904</td><td>&quot;75ebacccfc&quot;</td></tr><tr><td>&quot;s26d51d1895&quot;</td><td>&quot;s856b0b83b6&quot;</td><td>&quot;desktop&quot;</td><td>4288</td><td>&quot;https://forum.beusable.net/ko/…</td><td>2</td><td>false</td><td>&quot;https://tool.beusable.net/dash…</td><td>&quot;jakPuFPx&quot;</td><td>false</td><td>13871.0</td><td>false</td><td>true</td><td>0</td><td>false</td><td>&quot;2025-04-10&quot;</td><td>&quot;2025-04-10T11&quot;</td><td>7</td><td>3</td><td>203738</td><td>107630</td><td>&quot;ed6de0841e&quot;</td></tr><tr><td>&quot;s514a626c39&quot;</td><td>&quot;s856b0b83b6&quot;</td><td>&quot;desktop&quot;</td><td>4</td><td>&quot;https://tool.beusable.net/dash…</td><td>3</td><td>false</td><td>&quot;https://forum.beusable.net/ko/…</td><td>&quot;jakPuFPx&quot;</td><td>false</td><td>7343.0</td><td>false</td><td>true</td><td>0</td><td>false</td><td>&quot;2025-04-10&quot;</td><td>&quot;2025-04-10T11&quot;</td><td>8</td><td>19</td><td>107630</td><td>203738</td><td>&quot;de290eb9b2&quot;</td></tr><tr><td>&quot;s514a626c39&quot;</td><td>&quot;s856b0b83b6&quot;</td><td>&quot;desktop&quot;</td><td>82376</td><td>&quot;https://tool.beusable.net/repo…</td><td>4</td><td>false</td><td>&quot;https://tool.beusable.net/dash…</td><td>&quot;jakPuFPx&quot;</td><td>false</td><td>NaN</td><td>true</td><td>true</td><td>0</td><td>false</td><td>&quot;2025-04-10&quot;</td><td>&quot;2025-04-10T11&quot;</td><td>9</td><td>19</td><td>203220</td><td>107630</td><td>&quot;13a936edf0&quot;</td></tr></tbody></table></div>"
      ],
      "text/plain": [
       "shape: (10, 22)\n",
       "┌─────────────┬─────────────┬─────────┬───────┬───┬─────────────┬────────┬────────────┬────────────┐\n",
       "│ sid         ┆ parentSid   ┆ device  ┆ urlId ┆ … ┆ initialRefe ┆ gUrlId ┆ prevNodeId ┆ nodePath   │\n",
       "│ ---         ┆ ---         ┆ ---     ┆ ---   ┆   ┆ rId         ┆ ---    ┆ ---        ┆ ---        │\n",
       "│ str         ┆ str         ┆ str     ┆ i64   ┆   ┆ ---         ┆ i64    ┆ i64        ┆ str        │\n",
       "│             ┆             ┆         ┆       ┆   ┆ i64         ┆        ┆            ┆            │\n",
       "╞═════════════╪═════════════╪═════════╪═══════╪═══╪═════════════╪════════╪════════════╪════════════╡\n",
       "│ s514a626c39 ┆ s856b0b83b6 ┆ desktop ┆ 4     ┆ … ┆ 19          ┆ 107630 ┆ -1         ┆            │\n",
       "│ s514a626c39 ┆ s856b0b83b6 ┆ desktop ┆ 82376 ┆ … ┆ 19          ┆ 203220 ┆ 107630     ┆ b3ecf4b012 │\n",
       "│ s856b0b83b6 ┆ s856b0b83b6 ┆ desktop ┆ 125   ┆ … ┆ 3           ┆ 95121  ┆ -1         ┆            │\n",
       "│ s856b0b83b6 ┆ s856b0b83b6 ┆ desktop ┆ 127   ┆ … ┆ 3           ┆ 95123  ┆ 95121      ┆ 5d18e7a4b4 │\n",
       "│ s514a626c39 ┆ s856b0b83b6 ┆ desktop ┆ 4     ┆ … ┆ 19          ┆ 107630 ┆ 95123      ┆ 95d2ebe4ff │\n",
       "│ s26d51d1895 ┆ s856b0b83b6 ┆ desktop ┆ 4294  ┆ … ┆ 3           ┆ 203904 ┆ 107630     ┆ bfae449377 │\n",
       "│ s514a626c39 ┆ s856b0b83b6 ┆ desktop ┆ 4     ┆ … ┆ 19          ┆ 107630 ┆ 203904     ┆ 75ebacccfc │\n",
       "│ s26d51d1895 ┆ s856b0b83b6 ┆ desktop ┆ 4288  ┆ … ┆ 3           ┆ 203738 ┆ 107630     ┆ ed6de0841e │\n",
       "│ s514a626c39 ┆ s856b0b83b6 ┆ desktop ┆ 4     ┆ … ┆ 19          ┆ 107630 ┆ 203738     ┆ de290eb9b2 │\n",
       "│ s514a626c39 ┆ s856b0b83b6 ┆ desktop ┆ 82376 ┆ … ┆ 19          ┆ 203220 ┆ 107630     ┆ 13a936edf0 │\n",
       "└─────────────┴─────────────┴─────────┴───────┴───┴─────────────┴────────┴────────────┴────────────┘"
      ]
     },
     "execution_count": 6,
     "metadata": {},
     "output_type": "execute_result"
    }
   ],
   "source": [
    "df.filter(pl.col(\"sessionId\")==\"jakPuFPx\")"
   ]
  },
  {
   "cell_type": "code",
   "execution_count": 7,
   "metadata": {
    "ExecuteTime": {
     "end_time": "2025-09-02T03:57:55.926572Z",
     "start_time": "2025-09-02T03:57:55.887131Z"
    }
   },
   "outputs": [
    {
     "name": "stdout",
     "output_type": "stream",
     "text": [
      "\n",
      "    총 row 수: 1253153,\n",
      "    sessionId 갯수: 323848,\n",
      "    gUrlId 갯수: 45664\n",
      "\n"
     ]
    }
   ],
   "source": [
    "# 2. sid, gURL ID 갯수\n",
    "# TODO@jaehoon: why is sessionId less than lastOrder == True?\n",
    "sid_cnt = len(df['sessionId'].unique())\n",
    "gurl_id_cnt = len(df['gUrlId'].arg_unique())\n",
    "print(f\"\"\"\n",
    "    총 row 수: 1253153,\n",
    "    sessionId 갯수: {sid_cnt},\n",
    "    gUrlId 갯수: {gurl_id_cnt}\n",
    "\"\"\")"
   ]
  },
  {
   "cell_type": "code",
   "execution_count": 8,
   "metadata": {
    "ExecuteTime": {
     "end_time": "2025-09-02T04:20:58.967425Z",
     "start_time": "2025-09-02T04:20:58.870923Z"
    }
   },
   "outputs": [
    {
     "name": "stdout",
     "output_type": "stream",
     "text": [
      "\n",
      "    rollback true/false count:\n",
      "    shape: (2, 2)\n",
      "┌──────────┬─────────┐\n",
      "│ rollback ┆ count   │\n",
      "│ ---      ┆ ---     │\n",
      "│ bool     ┆ u32     │\n",
      "╞══════════╪═════════╡\n",
      "│ false    ┆ 1145442 │\n",
      "│ true     ┆ 26626   │\n",
      "└──────────┴─────────┘,\n",
      "\n",
      "    rollback ratio(%)\n",
      "    false: 97.72828880235618\n",
      "    true: 2.271711197643823\n",
      "\n",
      "    describe: shape: (5, 2)\n",
      "┌────────────┬────────────┐\n",
      "│ statistic  ┆ value      │\n",
      "│ ---        ┆ ---        │\n",
      "│ str        ┆ f64        │\n",
      "╞════════════╪════════════╡\n",
      "│ count      ┆ 1.172068e6 │\n",
      "│ null_count ┆ 0.0        │\n",
      "│ mean       ┆ 0.022717   │\n",
      "│ min        ┆ 0.0        │\n",
      "│ max        ┆ 1.0        │\n",
      "└────────────┴────────────┘\n",
      "\n"
     ]
    }
   ],
   "source": [
    "# 3. rollback Ratio\n",
    "rollback_false = list()\n",
    "rollback_true = list()\n",
    "for value in df[\"rollback\"]:\n",
    "    if value == True: rollback_true.append(value)\n",
    "    else: rollback_false.append(value)\n",
    "\n",
    "print(f\"\"\"\n",
    "    rollback true/false count:\n",
    "    {df[\"rollback\"].value_counts()},\n",
    "\n",
    "    rollback ratio(%)\n",
    "    false: {len(rollback_false)/len(df[\"rollback\"]) * 100}\n",
    "    true: {len(rollback_true)/len(df[\"rollback\"]) * 100}\n",
    "\n",
    "    describe: {df['rollback'].describe()}\n",
    "\"\"\")"
   ]
  },
  {
   "cell_type": "code",
   "execution_count": 9,
   "metadata": {
    "ExecuteTime": {
     "end_time": "2025-09-02T04:20:15.776003Z",
     "start_time": "2025-09-02T04:20:15.681189Z"
    }
   },
   "outputs": [
    {
     "name": "stdout",
     "output_type": "stream",
     "text": [
      "\n",
      "    lastOrder true/false count:\n",
      "    shape: (2, 2)\n",
      "┌───────────┬────────┐\n",
      "│ lastOrder ┆ count  │\n",
      "│ ---       ┆ ---    │\n",
      "│ bool      ┆ u32    │\n",
      "╞═══════════╪════════╡\n",
      "│ false     ┆ 825697 │\n",
      "│ true      ┆ 346371 │\n",
      "└───────────┴────────┘,\n",
      "\n",
      "    lastOrder ratio(%)\n",
      "    false: 70.44787503796708\n",
      "    true: 29.55212496203292\n",
      "\n",
      "    describe: shape: (5, 2)\n",
      "┌────────────┬────────────┐\n",
      "│ statistic  ┆ value      │\n",
      "│ ---        ┆ ---        │\n",
      "│ str        ┆ f64        │\n",
      "╞════════════╪════════════╡\n",
      "│ count      ┆ 1.172068e6 │\n",
      "│ null_count ┆ 0.0        │\n",
      "│ mean       ┆ 0.295521   │\n",
      "│ min        ┆ 0.0        │\n",
      "│ max        ┆ 1.0        │\n",
      "└────────────┴────────────┘\n",
      "\n"
     ]
    }
   ],
   "source": [
    "# 4. lastOrder Ratio\n",
    "lo_false = list()\n",
    "lo_true = list()\n",
    "for value in df[\"lastOrder\"]:\n",
    "    if value == True: lo_true.append(value)\n",
    "    else: lo_false.append(value)\n",
    "\n",
    "print(f\"\"\"\n",
    "    lastOrder true/false count:\n",
    "    {df[\"lastOrder\"].value_counts()},\n",
    "\n",
    "    lastOrder ratio(%)\n",
    "    false: {len(lo_false)/len(df[\"lastOrder\"]) * 100}\n",
    "    true: {len(lo_true)/len(df[\"lastOrder\"]) * 100}\n",
    "\n",
    "    describe: {df['lastOrder'].describe()}\n",
    "\"\"\")"
   ]
  },
  {
   "cell_type": "code",
   "execution_count": 10,
   "metadata": {
    "ExecuteTime": {
     "end_time": "2025-09-02T03:57:57.059432Z",
     "start_time": "2025-09-02T03:57:57.026647Z"
    }
   },
   "outputs": [
    {
     "name": "stdout",
     "output_type": "stream",
     "text": [
      "\n",
      "    Desktop True: 313888 --> y label data row,\n",
      "    Desktop False: 811721,\n",
      "    Desktop Sum: 1125609\n",
      "    ===============================\n",
      "    Tablet True: 1802 --> y label data row,\n",
      "    Tablet False: 1281,\n",
      "    Tablet Sum: 3083\n",
      "    ===============================\n",
      "    Phone True: 30681 --> y label data row,\n",
      "    Phone False: 12695,\n",
      "    Phone Sum: 43376\n",
      "\n"
     ]
    }
   ],
   "source": [
    "# 5. lastOrder count by device\n",
    "true_desktop = len(df.filter((pl.col(\"lastOrder\") == True) & (pl.col(\"device\") == \"desktop\")))\n",
    "false_desktop = len(df.filter((pl.col(\"lastOrder\") == False) & (pl.col(\"device\") == \"desktop\")))\n",
    "true_tablet = len(df.filter((pl.col(\"lastOrder\") == True) & (pl.col(\"device\") == \"tablet\")))\n",
    "false_tablet = len(df.filter((pl.col(\"lastOrder\") == False) & (pl.col(\"device\") == \"tablet\")))\n",
    "true_phone = len(df.filter((pl.col(\"lastOrder\") == True) & (pl.col(\"device\") == \"phone\")))\n",
    "false_phone = len(df.filter((pl.col(\"lastOrder\") == False) & (pl.col(\"device\") == \"phone\")))\n",
    "\n",
    "print(f\"\"\"\n",
    "    Desktop True: {true_desktop} --> y label data row,\n",
    "    Desktop False: {false_desktop},\n",
    "    Desktop Sum: {true_desktop+false_desktop}\n",
    "    ===============================\n",
    "    Tablet True: {true_tablet} --> y label data row,\n",
    "    Tablet False: {false_tablet},\n",
    "    Tablet Sum: {true_tablet+false_tablet}\n",
    "    ===============================\n",
    "    Phone True: {true_phone} --> y label data row,\n",
    "    Phone False: {false_phone},\n",
    "    Phone Sum: {true_phone + false_phone}\n",
    "\"\"\")"
   ]
  },
  {
   "cell_type": "code",
   "execution_count": 11,
   "metadata": {
    "ExecuteTime": {
     "end_time": "2025-09-02T04:34:58.461278Z",
     "start_time": "2025-09-02T04:34:58.365705Z"
    }
   },
   "outputs": [
    {
     "name": "stderr",
     "output_type": "stream",
     "text": [
      "/var/folders/ny/r6ly78jj0kq25dqyvjltjqq00000gn/T/ipykernel_59095/2273399800.py:5: DeprecationWarning: The argument `columns` for `DataFrame.pivot` is deprecated. It has been renamed to `on`.\n",
      "  .pivot(index=feature, columns=\"lastOrder\", values=\"len\", aggregate_function=\"sum\")\n"
     ]
    },
    {
     "data": {
      "text/plain": [
       "<Axes: xlabel='device', ylabel='count'>"
      ]
     },
     "execution_count": 11,
     "metadata": {},
     "output_type": "execute_result"
    },
    {
     "data": {
      "image/png": "[encoded data removed]",
      "text/plain": [
       "<Figure size 1000x500 with 1 Axes>"
      ]
     },
     "metadata": {},
     "output_type": "display_data"
    }
   ],
   "source": [
    "def bar_plot(df, feature):\n",
    "    counts = (\n",
    "        df.group_by([feature, \"lastOrder\"])  # group by feature and label\n",
    "          .len()                               # count rows per group -> column \"len\"\n",
    "          .pivot(index=feature, columns=\"lastOrder\", values=\"len\", aggregate_function=\"sum\")\n",
    "          .fill_null(0)\n",
    "    )\n",
    "    pdf = counts.to_pandas().set_index(feature)\n",
    "\n",
    "    # Normalize column names and guarantee both columns exist\n",
    "    rename_map = {\n",
    "        \"true\": \"lastOrder_True\",\n",
    "        \"false\": \"lastOrder_False\",\n",
    "        \"true\": \"lastOrder_True\",\n",
    "        \"false\": \"lastOrder_False\",\n",
    "        \"true\": \"lastOrder_True\",\n",
    "        \"false\": \"lastOrder_False\",\n",
    "    }\n",
    "    pdf = pdf.rename(columns=rename_map)\n",
    "    for col in [\"lastOrder_True\", \"lastOrder_False\"]:\n",
    "        if col not in pdf.columns:\n",
    "            pdf[col] = 0\n",
    "\n",
    "    ax = pdf[[\"lastOrder_False\", \"lastOrder_True\"]].plot(kind=\"bar\", stacked=True, figsize=(10, 5))\n",
    "    ax.set_ylabel(\"count\")\n",
    "    ax.set_xlabel(feature)\n",
    "    ax.legend(title=\"lastOrder\")\n",
    "    return ax\n",
    "\n",
    "bar_plot(df, \"device\")"
   ]
  },
  {
   "cell_type": "code",
   "execution_count": 12,
   "metadata": {
    "ExecuteTime": {
     "end_time": "2025-09-02T05:03:55.935698Z",
     "start_time": "2025-09-02T05:03:55.909666Z"
    }
   },
   "outputs": [
    {
     "name": "stdout",
     "output_type": "stream",
     "text": [
      "\n",
      "    statistic: 2487220.9189759092,\n",
      "    pvalue: 0.0,\n",
      "    normality: False,\n",
      "    learning: XGBoost, Transformer\n",
      "\n"
     ]
    }
   ],
   "source": [
    "# 정규성 평가\n",
    "from scipy.stats import zscore, normaltest, probplot\n",
    "seq = df[\"parentSeq\"]\n",
    "data_z = zscore(seq)\n",
    "p = normaltest(seq)\n",
    "is_normality = True if p.pvalue >= 0.95 else False\n",
    "statistic_or_dl = \"XGBoost, Transformer\" if not is_normality else \"Linear Analysis such as 'Logistic Regression'\"\n",
    "\n",
    "print(f\"\"\"\n",
    "    statistic: {p.statistic},\n",
    "    pvalue: {p.pvalue},\n",
    "    normality: {is_normality},\n",
    "    learning: {statistic_or_dl}\n",
    "\"\"\")\n",
    "\n",
    "# sampling 불가 -> 통계 기반 모델 사용 불가\n",
    "# 비선형모델인 XGBoost, Transformer가 적합!"
   ]
  },
  {
   "cell_type": "code",
   "execution_count": 13,
   "metadata": {
    "ExecuteTime": {
     "end_time": "2025-09-02T05:13:06.415845Z",
     "start_time": "2025-09-02T05:13:05.726933Z"
    }
   },
   "outputs": [
    {
     "data": {
      "image/png": "[encoded data removed]",
      "text/plain": [
       "<Figure size 640x480 with 1 Axes>"
      ]
     },
     "metadata": {},
     "output_type": "display_data"
    }
   ],
   "source": [
    "import matplotlib.pyplot as plt\n",
    "\n",
    "probplot(seq, dist=\"norm\", plot=plt)\n",
    "plt.title(\"Q-Q Plot\")\n",
    "plt.show()"
   ]
  },
  {
   "cell_type": "markdown",
   "metadata": {},
   "source": [
    "# 1. X, y dataset"
   ]
  },
  {
   "cell_type": "code",
   "execution_count": 15,
   "metadata": {
    "ExecuteTime": {
     "end_time": "2025-09-02T05:32:15.050655Z",
     "start_time": "2025-09-02T05:32:15.043318Z"
    }
   },
   "outputs": [
    {
     "data": {
      "text/html": [
       "<div><style>\n",
       ".dataframe > thead > tr,\n",
       ".dataframe > tbody > tr {\n",
       "  text-align: right;\n",
       "  white-space: pre-wrap;\n",
       "}\n",
       "</style>\n",
       "<small>shape: (53_583, 22)</small><table border=\"1\" class=\"dataframe\"><thead><tr><th>sid</th><th>parentSid</th><th>device</th><th>urlId</th><th>url</th><th>seq</th><th>useless</th><th>fullReferStr</th><th>sessionId</th><th>uTurnPoint</th><th>interval</th><th>lastOrder</th><th>exist</th><th>reloadCount</th><th>rollback</th><th>dateStr</th><th>dateHourStr</th><th>parentSeq</th><th>initialReferId</th><th>gUrlId</th><th>prevNodeId</th><th>nodePath</th></tr><tr><td>str</td><td>str</td><td>str</td><td>i64</td><td>str</td><td>i64</td><td>bool</td><td>str</td><td>str</td><td>bool</td><td>f64</td><td>bool</td><td>bool</td><td>i64</td><td>bool</td><td>str</td><td>str</td><td>i64</td><td>i64</td><td>i64</td><td>i64</td><td>str</td></tr></thead><tbody><tr><td>&quot;s514a626c39&quot;</td><td>&quot;s856b0b83b6&quot;</td><td>&quot;desktop&quot;</td><td>31</td><td>&quot;https://tool.beusable.net/user…</td><td>4</td><td>false</td><td>&quot;https://tool.beusable.net/user…</td><td>&quot;1VNYTFN4&quot;</td><td>false</td><td>NaN</td><td>true</td><td>false</td><td>0</td><td>false</td><td>&quot;2024-10-01&quot;</td><td>&quot;2024-10-01T00&quot;</td><td>7</td><td>1</td><td>107662</td><td>107683</td><td>&quot;4e3552464c&quot;</td></tr><tr><td>&quot;s26d51d1895&quot;</td><td>&quot;s856b0b83b6&quot;</td><td>&quot;desktop&quot;</td><td>31</td><td>&quot;https://forum.beusable.net/ko/…</td><td>4</td><td>false</td><td>&quot;https://forum.beusable.net/ko/…</td><td>&quot;JiuOBNy2&quot;</td><td>false</td><td>NaN</td><td>true</td><td>false</td><td>0</td><td>false</td><td>&quot;2024-10-01&quot;</td><td>&quot;2024-10-01T01&quot;</td><td>4</td><td>2628</td><td>114068</td><td>160328</td><td>&quot;efc783d8bd&quot;</td></tr><tr><td>&quot;s514a626c39&quot;</td><td>&quot;s856b0b83b6&quot;</td><td>&quot;desktop&quot;</td><td>4</td><td>&quot;https://tool.beusable.net/dash…</td><td>11</td><td>false</td><td>&quot;https://tool.beusable.net/dash…</td><td>&quot;Q48Tbq4H&quot;</td><td>false</td><td>NaN</td><td>true</td><td>false</td><td>7</td><td>false</td><td>&quot;2024-10-01&quot;</td><td>&quot;2024-10-01T01&quot;</td><td>16</td><td>1</td><td>107630</td><td>107663</td><td>&quot;50aa39282e&quot;</td></tr><tr><td>&quot;s514a626c39&quot;</td><td>&quot;s856b0b83b6&quot;</td><td>&quot;desktop&quot;</td><td>32</td><td>&quot;https://tool.beusable.net/user…</td><td>15</td><td>false</td><td>&quot;https://tool.beusable.net/repo…</td><td>&quot;EwXO3o4T&quot;</td><td>false</td><td>NaN</td><td>true</td><td>true</td><td>0</td><td>false</td><td>&quot;2024-10-01&quot;</td><td>&quot;2024-10-01T02&quot;</td><td>15</td><td>19</td><td>107663</td><td>187646</td><td>&quot;74aabf0332&quot;</td></tr><tr><td>&quot;s514a626c39&quot;</td><td>&quot;s856b0b83b6&quot;</td><td>&quot;desktop&quot;</td><td>69883</td><td>&quot;https://tool.beusable.net/repo…</td><td>4</td><td>false</td><td>&quot;https://tool.beusable.net/dash…</td><td>&quot;Opx2lkbg&quot;</td><td>false</td><td>NaN</td><td>true</td><td>false</td><td>0</td><td>false</td><td>&quot;2024-10-01&quot;</td><td>&quot;2024-10-01T02&quot;</td><td>6</td><td>148</td><td>187648</td><td>107630</td><td>&quot;892d5aa8ed&quot;</td></tr><tr><td>&hellip;</td><td>&hellip;</td><td>&hellip;</td><td>&hellip;</td><td>&hellip;</td><td>&hellip;</td><td>&hellip;</td><td>&hellip;</td><td>&hellip;</td><td>&hellip;</td><td>&hellip;</td><td>&hellip;</td><td>&hellip;</td><td>&hellip;</td><td>&hellip;</td><td>&hellip;</td><td>&hellip;</td><td>&hellip;</td><td>&hellip;</td><td>&hellip;</td><td>&hellip;</td><td>&hellip;</td></tr><tr><td>&quot;s4bc12662fc&quot;</td><td>&quot;s856b0b83b6&quot;</td><td>&quot;desktop&quot;</td><td>5</td><td>&quot;https://solomon.beusable.net/b…</td><td>2</td><td>false</td><td>&quot;https://www.beusable.net/signi…</td><td>&quot;aXDKcrNy&quot;</td><td>false</td><td>NaN</td><td>true</td><td>true</td><td>0</td><td>false</td><td>&quot;2024-05-31&quot;</td><td>&quot;2024-05-31T23&quot;</td><td>4</td><td>1</td><td>171992</td><td>95121</td><td>&quot;583b333c0a&quot;</td></tr><tr><td>&quot;s4bc12662fc&quot;</td><td>&quot;s856b0b83b6&quot;</td><td>&quot;desktop&quot;</td><td>5</td><td>&quot;https://solomon.beusable.net/b…</td><td>1</td><td>false</td><td>&quot;https://tool.beusable.net/repo…</td><td>&quot;D8nN0Kl2&quot;</td><td>false</td><td>NaN</td><td>true</td><td>true</td><td>0</td><td>false</td><td>&quot;2024-05-31&quot;</td><td>&quot;2024-05-31T23&quot;</td><td>13</td><td>1</td><td>171992</td><td>145503</td><td>&quot;5dfe99c272&quot;</td></tr><tr><td>&quot;s26d51d1895&quot;</td><td>&quot;s856b0b83b6&quot;</td><td>&quot;desktop&quot;</td><td>132</td><td>&quot;https://forum.beusable.net/en/…</td><td>2</td><td>false</td><td>&quot;https://forum.beusable.net/en/…</td><td>&quot;FENyROrN&quot;</td><td>false</td><td>NaN</td><td>true</td><td>true</td><td>0</td><td>false</td><td>&quot;2024-05-31&quot;</td><td>&quot;2024-05-31T23&quot;</td><td>4</td><td>1</td><td>114343</td><td>114342</td><td>&quot;470b1994bd&quot;</td></tr><tr><td>&quot;s514a626c39&quot;</td><td>&quot;s856b0b83b6&quot;</td><td>&quot;desktop&quot;</td><td>4</td><td>&quot;https://tool.beusable.net/dash…</td><td>1</td><td>false</td><td>&quot;https://tool.beusable.net/user…</td><td>&quot;NqzmVis2&quot;</td><td>false</td><td>NaN</td><td>true</td><td>true</td><td>0</td><td>true</td><td>&quot;2024-05-31&quot;</td><td>&quot;2024-05-31T23&quot;</td><td>5</td><td>1</td><td>107630</td><td>95123</td><td>&quot;b13a89e57b&quot;</td></tr><tr><td>&quot;s514a626c39&quot;</td><td>&quot;s856b0b83b6&quot;</td><td>&quot;desktop&quot;</td><td>51585</td><td>&quot;https://tool.beusable.net/repo…</td><td>2</td><td>false</td><td>&quot;https://tool.beusable.net/dash…</td><td>&quot;qOmBPi1e&quot;</td><td>false</td><td>NaN</td><td>true</td><td>true</td><td>0</td><td>false</td><td>&quot;2024-05-31&quot;</td><td>&quot;2024-05-31T23&quot;</td><td>4</td><td>2137</td><td>164679</td><td>107630</td><td>&quot;c59f7726fe&quot;</td></tr></tbody></table></div>"
      ],
      "text/plain": [
       "shape: (53_583, 22)\n",
       "┌─────────────┬─────────────┬─────────┬───────┬───┬─────────────┬────────┬────────────┬────────────┐\n",
       "│ sid         ┆ parentSid   ┆ device  ┆ urlId ┆ … ┆ initialRefe ┆ gUrlId ┆ prevNodeId ┆ nodePath   │\n",
       "│ ---         ┆ ---         ┆ ---     ┆ ---   ┆   ┆ rId         ┆ ---    ┆ ---        ┆ ---        │\n",
       "│ str         ┆ str         ┆ str     ┆ i64   ┆   ┆ ---         ┆ i64    ┆ i64        ┆ str        │\n",
       "│             ┆             ┆         ┆       ┆   ┆ i64         ┆        ┆            ┆            │\n",
       "╞═════════════╪═════════════╪═════════╪═══════╪═══╪═════════════╪════════╪════════════╪════════════╡\n",
       "│ s514a626c39 ┆ s856b0b83b6 ┆ desktop ┆ 31    ┆ … ┆ 1           ┆ 107662 ┆ 107683     ┆ 4e3552464c │\n",
       "│ s26d51d1895 ┆ s856b0b83b6 ┆ desktop ┆ 31    ┆ … ┆ 2628        ┆ 114068 ┆ 160328     ┆ efc783d8bd │\n",
       "│ s514a626c39 ┆ s856b0b83b6 ┆ desktop ┆ 4     ┆ … ┆ 1           ┆ 107630 ┆ 107663     ┆ 50aa39282e │\n",
       "│ s514a626c39 ┆ s856b0b83b6 ┆ desktop ┆ 32    ┆ … ┆ 19          ┆ 107663 ┆ 187646     ┆ 74aabf0332 │\n",
       "│ s514a626c39 ┆ s856b0b83b6 ┆ desktop ┆ 69883 ┆ … ┆ 148         ┆ 187648 ┆ 107630     ┆ 892d5aa8ed │\n",
       "│ …           ┆ …           ┆ …       ┆ …     ┆ … ┆ …           ┆ …      ┆ …          ┆ …          │\n",
       "│ s4bc12662fc ┆ s856b0b83b6 ┆ desktop ┆ 5     ┆ … ┆ 1           ┆ 171992 ┆ 95121      ┆ 583b333c0a │\n",
       "│ s4bc12662fc ┆ s856b0b83b6 ┆ desktop ┆ 5     ┆ … ┆ 1           ┆ 171992 ┆ 145503     ┆ 5dfe99c272 │\n",
       "│ s26d51d1895 ┆ s856b0b83b6 ┆ desktop ┆ 132   ┆ … ┆ 1           ┆ 114343 ┆ 114342     ┆ 470b1994bd │\n",
       "│ s514a626c39 ┆ s856b0b83b6 ┆ desktop ┆ 4     ┆ … ┆ 1           ┆ 107630 ┆ 95123      ┆ b13a89e57b │\n",
       "│ s514a626c39 ┆ s856b0b83b6 ┆ desktop ┆ 51585 ┆ … ┆ 2137        ┆ 164679 ┆ 107630     ┆ c59f7726fe │\n",
       "└─────────────┴─────────────┴─────────┴───────┴───┴─────────────┴────────┴────────────┴────────────┘"
      ]
     },
     "execution_count": 15,
     "metadata": {},
     "output_type": "execute_result"
    }
   ],
   "source": [
    "# y 데이터로 sessionId를 가져오고 이에 맞는 X 데이터를 붙여주는 방식으로 가자\n",
    "# 조건:\n",
    "# 1. seq는 4 이상 -> 그런데, parentSeq는 4인데, parentSeq가 순서대로 다 들어있지 않은 케이스들도 있음. 얜 추후에 길이 체크 후 날려주는 것으로 한다.\n",
    "# 2. 중복된 세션은 지워준다. 의도하지 않은 형태의 데이터임\n",
    "\n",
    "session_df = df.filter((pl.col(\"lastOrder\") == True) & (pl.col(\"parentSeq\") >= 4))\n",
    "session_df"
   ]
  },
  {
   "cell_type": "code",
   "execution_count": 16,
   "metadata": {},
   "outputs": [
    {
     "data": {
      "text/html": [
       "<div><style>\n",
       ".dataframe > thead > tr,\n",
       ".dataframe > tbody > tr {\n",
       "  text-align: right;\n",
       "  white-space: pre-wrap;\n",
       "}\n",
       "</style>\n",
       "<small>shape: (1, 22)</small><table border=\"1\" class=\"dataframe\"><thead><tr><th>sid</th><th>parentSid</th><th>device</th><th>urlId</th><th>url</th><th>seq</th><th>useless</th><th>fullReferStr</th><th>sessionId</th><th>uTurnPoint</th><th>interval</th><th>lastOrder</th><th>exist</th><th>reloadCount</th><th>rollback</th><th>dateStr</th><th>dateHourStr</th><th>parentSeq</th><th>initialReferId</th><th>gUrlId</th><th>prevNodeId</th><th>nodePath</th></tr><tr><td>str</td><td>str</td><td>str</td><td>i64</td><td>str</td><td>i64</td><td>bool</td><td>str</td><td>str</td><td>bool</td><td>f64</td><td>bool</td><td>bool</td><td>i64</td><td>bool</td><td>str</td><td>str</td><td>i64</td><td>i64</td><td>i64</td><td>i64</td><td>str</td></tr></thead><tbody><tr><td>&quot;s514a626c39&quot;</td><td>&quot;s856b0b83b6&quot;</td><td>&quot;desktop&quot;</td><td>32</td><td>&quot;https://tool.beusable.net/user…</td><td>3</td><td>false</td><td>&quot;https://tool.beusable.net/repo…</td><td>&quot;iZQaSyXL&quot;</td><td>false</td><td>NaN</td><td>true</td><td>true</td><td>0</td><td>false</td><td>&quot;2024-10-01&quot;</td><td>&quot;2024-10-01T09&quot;</td><td>6</td><td>2</td><td>107663</td><td>109565</td><td>&quot;e237a97a99&quot;</td></tr></tbody></table></div>"
      ],
      "text/plain": [
       "shape: (1, 22)\n",
       "┌─────────────┬─────────────┬─────────┬───────┬───┬─────────────┬────────┬────────────┬────────────┐\n",
       "│ sid         ┆ parentSid   ┆ device  ┆ urlId ┆ … ┆ initialRefe ┆ gUrlId ┆ prevNodeId ┆ nodePath   │\n",
       "│ ---         ┆ ---         ┆ ---     ┆ ---   ┆   ┆ rId         ┆ ---    ┆ ---        ┆ ---        │\n",
       "│ str         ┆ str         ┆ str     ┆ i64   ┆   ┆ ---         ┆ i64    ┆ i64        ┆ str        │\n",
       "│             ┆             ┆         ┆       ┆   ┆ i64         ┆        ┆            ┆            │\n",
       "╞═════════════╪═════════════╪═════════╪═══════╪═══╪═════════════╪════════╪════════════╪════════════╡\n",
       "│ s514a626c39 ┆ s856b0b83b6 ┆ desktop ┆ 32    ┆ … ┆ 2           ┆ 107663 ┆ 109565     ┆ e237a97a99 │\n",
       "└─────────────┴─────────────┴─────────┴───────┴───┴─────────────┴────────┴────────────┴────────────┘"
      ]
     },
     "execution_count": 16,
     "metadata": {},
     "output_type": "execute_result"
    }
   ],
   "source": [
    "session_df.filter(pl.col(\"sessionId\") == \"iZQaSyXL\").sort(\"parentSeq\")"
   ]
  },
  {
   "cell_type": "code",
   "execution_count": 17,
   "metadata": {
    "ExecuteTime": {
     "end_time": "2025-09-02T03:33:02.361983Z",
     "start_time": "2025-09-02T03:33:02.357865Z"
    }
   },
   "outputs": [
    {
     "data": {
      "text/html": [
       "<div><style>\n",
       ".dataframe > thead > tr,\n",
       ".dataframe > tbody > tr {\n",
       "  text-align: right;\n",
       "  white-space: pre-wrap;\n",
       "}\n",
       "</style>\n",
       "<small>shape: (0, 22)</small><table border=\"1\" class=\"dataframe\"><thead><tr><th>sid</th><th>parentSid</th><th>device</th><th>urlId</th><th>url</th><th>seq</th><th>useless</th><th>fullReferStr</th><th>sessionId</th><th>uTurnPoint</th><th>interval</th><th>lastOrder</th><th>exist</th><th>reloadCount</th><th>rollback</th><th>dateStr</th><th>dateHourStr</th><th>parentSeq</th><th>initialReferId</th><th>gUrlId</th><th>prevNodeId</th><th>nodePath</th></tr><tr><td>str</td><td>str</td><td>str</td><td>i64</td><td>str</td><td>i64</td><td>bool</td><td>str</td><td>str</td><td>bool</td><td>f64</td><td>bool</td><td>bool</td><td>i64</td><td>bool</td><td>str</td><td>str</td><td>i64</td><td>i64</td><td>i64</td><td>i64</td><td>str</td></tr></thead><tbody></tbody></table></div>"
      ],
      "text/plain": [
       "shape: (0, 22)\n",
       "┌─────┬───────────┬────────┬───────┬───┬────────────────┬────────┬────────────┬──────────┐\n",
       "│ sid ┆ parentSid ┆ device ┆ urlId ┆ … ┆ initialReferId ┆ gUrlId ┆ prevNodeId ┆ nodePath │\n",
       "│ --- ┆ ---       ┆ ---    ┆ ---   ┆   ┆ ---            ┆ ---    ┆ ---        ┆ ---      │\n",
       "│ str ┆ str       ┆ str    ┆ i64   ┆   ┆ i64            ┆ i64    ┆ i64        ┆ str      │\n",
       "╞═════╪═══════════╪════════╪═══════╪═══╪════════════════╪════════╪════════════╪══════════╡\n",
       "└─────┴───────────┴────────┴───────┴───┴────────────────┴────────┴────────────┴──────────┘"
      ]
     },
     "execution_count": 17,
     "metadata": {},
     "output_type": "execute_result"
    }
   ],
   "source": [
    "not_session_df = session_df.filter(pl.len().over(\"sessionId\") == 2).sort(\"sessionId\")\n",
    "not_session_df.filter(pl.col(\"sessionId\") == \"01V4JKo2\")"
   ]
  },
  {
   "cell_type": "code",
   "execution_count": 18,
   "metadata": {},
   "outputs": [
    {
     "data": {
      "text/html": [
       "<div><style>\n",
       ".dataframe > thead > tr,\n",
       ".dataframe > tbody > tr {\n",
       "  text-align: right;\n",
       "  white-space: pre-wrap;\n",
       "}\n",
       "</style>\n",
       "<small>shape: (45_934, 22)</small><table border=\"1\" class=\"dataframe\"><thead><tr><th>sid</th><th>parentSid</th><th>device</th><th>urlId</th><th>url</th><th>seq</th><th>useless</th><th>fullReferStr</th><th>sessionId</th><th>uTurnPoint</th><th>interval</th><th>lastOrder</th><th>exist</th><th>reloadCount</th><th>rollback</th><th>dateStr</th><th>dateHourStr</th><th>parentSeq</th><th>initialReferId</th><th>gUrlId</th><th>prevNodeId</th><th>nodePath</th></tr><tr><td>str</td><td>str</td><td>str</td><td>i64</td><td>str</td><td>i64</td><td>bool</td><td>str</td><td>str</td><td>bool</td><td>f64</td><td>bool</td><td>bool</td><td>i64</td><td>bool</td><td>str</td><td>str</td><td>i64</td><td>i64</td><td>i64</td><td>i64</td><td>str</td></tr></thead><tbody><tr><td>&quot;s856b0b83b6&quot;</td><td>&quot;s856b0b83b6&quot;</td><td>&quot;desktop&quot;</td><td>2</td><td>&quot;https://www.beusable.net/ko/&quot;</td><td>3</td><td>false</td><td>&quot;https://tool.beusable.net/user…</td><td>&quot;006JtXoj&quot;</td><td>false</td><td>NaN</td><td>true</td><td>true</td><td>0</td><td>false</td><td>&quot;2025-01-07&quot;</td><td>&quot;2025-01-07T22&quot;</td><td>7</td><td>1</td><td>4930</td><td>107683</td><td>&quot;cc20b2d91b&quot;</td></tr><tr><td>&quot;s667eb8ffd7&quot;</td><td>&quot;s856b0b83b6&quot;</td><td>&quot;desktop&quot;</td><td>1</td><td>&quot;https://analytics.beusable.net…</td><td>3</td><td>false</td><td>&quot;https://analytics.beusable.net…</td><td>&quot;0094VTgv&quot;</td><td>false</td><td>NaN</td><td>true</td><td>true</td><td>0</td><td>false</td><td>&quot;2024-12-13&quot;</td><td>&quot;2024-12-13T10&quot;</td><td>6</td><td>2</td><td>107632</td><td>107764</td><td>&quot;968c352f49&quot;</td></tr><tr><td>&quot;s667eb8ffd7&quot;</td><td>&quot;s856b0b83b6&quot;</td><td>&quot;desktop&quot;</td><td>1</td><td>&quot;https://analytics.beusable.net…</td><td>5</td><td>false</td><td>&quot;https://analytics.beusable.net…</td><td>&quot;009RZOGn&quot;</td><td>false</td><td>NaN</td><td>true</td><td>true</td><td>0</td><td>false</td><td>&quot;2024-06-13&quot;</td><td>&quot;2024-06-13T12&quot;</td><td>8</td><td>2</td><td>107632</td><td>107668</td><td>&quot;00dd29f7cf&quot;</td></tr><tr><td>&quot;s514a626c39&quot;</td><td>&quot;s856b0b83b6&quot;</td><td>&quot;desktop&quot;</td><td>67192</td><td>&quot;https://tool.beusable.net/repo…</td><td>6</td><td>false</td><td>&quot;https://tool.beusable.net/dash…</td><td>&quot;00E2R2Ph&quot;</td><td>false</td><td>NaN</td><td>true</td><td>true</td><td>0</td><td>false</td><td>&quot;2024-10-25&quot;</td><td>&quot;2024-10-25T11&quot;</td><td>9</td><td>1</td><td>184026</td><td>107630</td><td>&quot;cd3196eac8&quot;</td></tr><tr><td>&quot;s514a626c39&quot;</td><td>&quot;s856b0b83b6&quot;</td><td>&quot;desktop&quot;</td><td>508</td><td>&quot;https://tool.beusable.net/repo…</td><td>3</td><td>false</td><td>&quot;https://tool.beusable.net/repo…</td><td>&quot;00KVI1V8&quot;</td><td>false</td><td>NaN</td><td>true</td><td>false</td><td>0</td><td>false</td><td>&quot;2024-11-25&quot;</td><td>&quot;2024-11-25T10&quot;</td><td>4</td><td>148</td><td>108160</td><td>108157</td><td>&quot;b19bdfc99e&quot;</td></tr><tr><td>&hellip;</td><td>&hellip;</td><td>&hellip;</td><td>&hellip;</td><td>&hellip;</td><td>&hellip;</td><td>&hellip;</td><td>&hellip;</td><td>&hellip;</td><td>&hellip;</td><td>&hellip;</td><td>&hellip;</td><td>&hellip;</td><td>&hellip;</td><td>&hellip;</td><td>&hellip;</td><td>&hellip;</td><td>&hellip;</td><td>&hellip;</td><td>&hellip;</td><td>&hellip;</td><td>&hellip;</td></tr><tr><td>&quot;s26d51d1895&quot;</td><td>&quot;s856b0b83b6&quot;</td><td>&quot;desktop&quot;</td><td>4274</td><td>&quot;https://forum.beusable.net/ko/…</td><td>3</td><td>false</td><td>&quot;https://www.beusable.net/ko/ux…</td><td>&quot;zzixRnRt&quot;</td><td>false</td><td>NaN</td><td>true</td><td>true</td><td>0</td><td>false</td><td>&quot;2025-04-02&quot;</td><td>&quot;2025-04-02T18&quot;</td><td>4</td><td>1</td><td>203190</td><td>95149</td><td>&quot;2129cb5c22&quot;</td></tr><tr><td>&quot;s667eb8ffd7&quot;</td><td>&quot;s856b0b83b6&quot;</td><td>&quot;desktop&quot;</td><td>7</td><td>&quot;https://analytics.beusable.net…</td><td>2</td><td>false</td><td>&quot;https://analytics.beusable.net…</td><td>&quot;zzl2SjBI&quot;</td><td>false</td><td>NaN</td><td>true</td><td>true</td><td>0</td><td>false</td><td>&quot;2024-11-27&quot;</td><td>&quot;2024-11-27T14&quot;</td><td>5</td><td>2</td><td>107677</td><td>107632</td><td>&quot;9ecaa494cd&quot;</td></tr><tr><td>&quot;s514a626c39&quot;</td><td>&quot;s856b0b83b6&quot;</td><td>&quot;desktop&quot;</td><td>70642</td><td>&quot;https://tool.beusable.net/repo…</td><td>6</td><td>false</td><td>&quot;https://tool.beusable.net/dash…</td><td>&quot;zzmJfQFw&quot;</td><td>false</td><td>NaN</td><td>true</td><td>false</td><td>0</td><td>false</td><td>&quot;2024-10-22&quot;</td><td>&quot;2024-10-22T19&quot;</td><td>10</td><td>2</td><td>188579</td><td>107630</td><td>&quot;4a7dda3c8a&quot;</td></tr><tr><td>&quot;s514a626c39&quot;</td><td>&quot;s856b0b83b6&quot;</td><td>&quot;desktop&quot;</td><td>51569</td><td>&quot;https://tool.beusable.net/repo…</td><td>3</td><td>false</td><td>&quot;https://tool.beusable.net/repo…</td><td>&quot;zzvTp18g&quot;</td><td>false</td><td>NaN</td><td>true</td><td>true</td><td>0</td><td>false</td><td>&quot;2024-03-17&quot;</td><td>&quot;2024-03-17T22&quot;</td><td>4</td><td>148</td><td>164657</td><td>164622</td><td>&quot;976e97351d&quot;</td></tr><tr><td>&quot;s856b0b83b6&quot;</td><td>&quot;s856b0b83b6&quot;</td><td>&quot;desktop&quot;</td><td>127</td><td>&quot;https://www.beusable.net/my&quot;</td><td>3</td><td>false</td><td>&quot;https://analytics.beusable.net…</td><td>&quot;zzx4HcW2&quot;</td><td>false</td><td>NaN</td><td>true</td><td>true</td><td>0</td><td>false</td><td>&quot;2024-05-03&quot;</td><td>&quot;2024-05-03T13&quot;</td><td>4</td><td>1</td><td>95123</td><td>107632</td><td>&quot;ed68a7be85&quot;</td></tr></tbody></table></div>"
      ],
      "text/plain": [
       "shape: (45_934, 22)\n",
       "┌─────────────┬─────────────┬─────────┬───────┬───┬─────────────┬────────┬────────────┬────────────┐\n",
       "│ sid         ┆ parentSid   ┆ device  ┆ urlId ┆ … ┆ initialRefe ┆ gUrlId ┆ prevNodeId ┆ nodePath   │\n",
       "│ ---         ┆ ---         ┆ ---     ┆ ---   ┆   ┆ rId         ┆ ---    ┆ ---        ┆ ---        │\n",
       "│ str         ┆ str         ┆ str     ┆ i64   ┆   ┆ ---         ┆ i64    ┆ i64        ┆ str        │\n",
       "│             ┆             ┆         ┆       ┆   ┆ i64         ┆        ┆            ┆            │\n",
       "╞═════════════╪═════════════╪═════════╪═══════╪═══╪═════════════╪════════╪════════════╪════════════╡\n",
       "│ s856b0b83b6 ┆ s856b0b83b6 ┆ desktop ┆ 2     ┆ … ┆ 1           ┆ 4930   ┆ 107683     ┆ cc20b2d91b │\n",
       "│ s667eb8ffd7 ┆ s856b0b83b6 ┆ desktop ┆ 1     ┆ … ┆ 2           ┆ 107632 ┆ 107764     ┆ 968c352f49 │\n",
       "│ s667eb8ffd7 ┆ s856b0b83b6 ┆ desktop ┆ 1     ┆ … ┆ 2           ┆ 107632 ┆ 107668     ┆ 00dd29f7cf │\n",
       "│ s514a626c39 ┆ s856b0b83b6 ┆ desktop ┆ 67192 ┆ … ┆ 1           ┆ 184026 ┆ 107630     ┆ cd3196eac8 │\n",
       "│ s514a626c39 ┆ s856b0b83b6 ┆ desktop ┆ 508   ┆ … ┆ 148         ┆ 108160 ┆ 108157     ┆ b19bdfc99e │\n",
       "│ …           ┆ …           ┆ …       ┆ …     ┆ … ┆ …           ┆ …      ┆ …          ┆ …          │\n",
       "│ s26d51d1895 ┆ s856b0b83b6 ┆ desktop ┆ 4274  ┆ … ┆ 1           ┆ 203190 ┆ 95149      ┆ 2129cb5c22 │\n",
       "│ s667eb8ffd7 ┆ s856b0b83b6 ┆ desktop ┆ 7     ┆ … ┆ 2           ┆ 107677 ┆ 107632     ┆ 9ecaa494cd │\n",
       "│ s514a626c39 ┆ s856b0b83b6 ┆ desktop ┆ 70642 ┆ … ┆ 2           ┆ 188579 ┆ 107630     ┆ 4a7dda3c8a │\n",
       "│ s514a626c39 ┆ s856b0b83b6 ┆ desktop ┆ 51569 ┆ … ┆ 148         ┆ 164657 ┆ 164622     ┆ 976e97351d │\n",
       "│ s856b0b83b6 ┆ s856b0b83b6 ┆ desktop ┆ 127   ┆ … ┆ 1           ┆ 95123  ┆ 107632     ┆ ed68a7be85 │\n",
       "└─────────────┴─────────────┴─────────┴───────┴───┴─────────────┴────────┴────────────┴────────────┘"
      ]
     },
     "execution_count": 18,
     "metadata": {},
     "output_type": "execute_result"
    }
   ],
   "source": [
    "session_df = session_df.filter(pl.len().over(\"sessionId\") == 1).sort(\"sessionId\")\n",
    "session_df"
   ]
  },
  {
   "cell_type": "code",
   "execution_count": 19,
   "metadata": {
    "ExecuteTime": {
     "end_time": "2025-09-02T03:30:28.361159Z",
     "start_time": "2025-09-02T03:30:28.354049Z"
    }
   },
   "outputs": [
    {
     "data": {
      "text/html": [
       "<div><style>\n",
       ".dataframe > thead > tr,\n",
       ".dataframe > tbody > tr {\n",
       "  text-align: right;\n",
       "  white-space: pre-wrap;\n",
       "}\n",
       "</style>\n",
       "<small>shape: (45_934,)</small><table border=\"1\" class=\"dataframe\"><thead><tr><th>sessionId</th></tr><tr><td>str</td></tr></thead><tbody><tr><td>&quot;uebnmCRw&quot;</td></tr><tr><td>&quot;crQjTV3j&quot;</td></tr><tr><td>&quot;kRCUdyVK&quot;</td></tr><tr><td>&quot;GZfMyfOe&quot;</td></tr><tr><td>&quot;M4lndIEm&quot;</td></tr><tr><td>&hellip;</td></tr><tr><td>&quot;ZPCNsfLJ&quot;</td></tr><tr><td>&quot;MpOtCG84&quot;</td></tr><tr><td>&quot;Xxfvn6bc&quot;</td></tr><tr><td>&quot;lgKTMXUj&quot;</td></tr><tr><td>&quot;XLHKWLDN&quot;</td></tr></tbody></table></div>"
      ],
      "text/plain": [
       "shape: (45_934,)\n",
       "Series: 'sessionId' [str]\n",
       "[\n",
       "\t\"uebnmCRw\"\n",
       "\t\"crQjTV3j\"\n",
       "\t\"kRCUdyVK\"\n",
       "\t\"GZfMyfOe\"\n",
       "\t\"M4lndIEm\"\n",
       "\t…\n",
       "\t\"ZPCNsfLJ\"\n",
       "\t\"MpOtCG84\"\n",
       "\t\"Xxfvn6bc\"\n",
       "\t\"lgKTMXUj\"\n",
       "\t\"XLHKWLDN\"\n",
       "]"
      ]
     },
     "execution_count": 19,
     "metadata": {},
     "output_type": "execute_result"
    }
   ],
   "source": [
    "session_df[\"sessionId\"].unique()"
   ]
  },
  {
   "cell_type": "code",
   "execution_count": 20,
   "metadata": {
    "ExecuteTime": {
     "end_time": "2025-09-02T03:30:30.847598Z",
     "start_time": "2025-09-02T03:30:30.837528Z"
    }
   },
   "outputs": [
    {
     "data": {
      "text/html": [
       "<div><style>\n",
       ".dataframe > thead > tr,\n",
       ".dataframe > tbody > tr {\n",
       "  text-align: right;\n",
       "  white-space: pre-wrap;\n",
       "}\n",
       "</style>\n",
       "<small>shape: (627_260, 22)</small><table border=\"1\" class=\"dataframe\"><thead><tr><th>sid</th><th>parentSid</th><th>device</th><th>urlId</th><th>url</th><th>seq</th><th>useless</th><th>fullReferStr</th><th>sessionId</th><th>uTurnPoint</th><th>interval</th><th>lastOrder</th><th>exist</th><th>reloadCount</th><th>rollback</th><th>dateStr</th><th>dateHourStr</th><th>parentSeq</th><th>initialReferId</th><th>gUrlId</th><th>prevNodeId</th><th>nodePath</th></tr><tr><td>str</td><td>str</td><td>str</td><td>i64</td><td>str</td><td>i64</td><td>bool</td><td>str</td><td>str</td><td>bool</td><td>f64</td><td>bool</td><td>bool</td><td>i64</td><td>bool</td><td>str</td><td>str</td><td>i64</td><td>i64</td><td>i64</td><td>i64</td><td>str</td></tr></thead><tbody><tr><td>&quot;s514a626c39&quot;</td><td>&quot;s856b0b83b6&quot;</td><td>&quot;desktop&quot;</td><td>4</td><td>&quot;https://tool.beusable.net/dash…</td><td>1</td><td>false</td><td>&quot;https://www.beusable.net/my&quot;</td><td>&quot;1VNYTFN4&quot;</td><td>false</td><td>78605.0</td><td>false</td><td>false</td><td>0</td><td>false</td><td>&quot;2024-10-01&quot;</td><td>&quot;2024-10-01T00&quot;</td><td>4</td><td>1</td><td>107630</td><td>95123</td><td>&quot;416092b9f0&quot;</td></tr><tr><td>&quot;s514a626c39&quot;</td><td>&quot;s856b0b83b6&quot;</td><td>&quot;desktop&quot;</td><td>32</td><td>&quot;https://tool.beusable.net/user…</td><td>2</td><td>false</td><td>&quot;https://tool.beusable.net/dash…</td><td>&quot;1VNYTFN4&quot;</td><td>false</td><td>52116.0</td><td>false</td><td>false</td><td>0</td><td>false</td><td>&quot;2024-10-01&quot;</td><td>&quot;2024-10-01T00&quot;</td><td>5</td><td>1</td><td>107663</td><td>107630</td><td>&quot;c99e1ae00b&quot;</td></tr><tr><td>&quot;s514a626c39&quot;</td><td>&quot;s856b0b83b6&quot;</td><td>&quot;desktop&quot;</td><td>50</td><td>&quot;https://tool.beusable.net/user…</td><td>3</td><td>false</td><td>&quot;https://tool.beusable.net/user…</td><td>&quot;1VNYTFN4&quot;</td><td>false</td><td>546.0</td><td>false</td><td>false</td><td>0</td><td>false</td><td>&quot;2024-10-01&quot;</td><td>&quot;2024-10-01T00&quot;</td><td>6</td><td>1</td><td>107683</td><td>107663</td><td>&quot;c1aec9d5d9&quot;</td></tr><tr><td>&quot;s514a626c39&quot;</td><td>&quot;s856b0b83b6&quot;</td><td>&quot;desktop&quot;</td><td>31</td><td>&quot;https://tool.beusable.net/user…</td><td>4</td><td>false</td><td>&quot;https://tool.beusable.net/user…</td><td>&quot;1VNYTFN4&quot;</td><td>false</td><td>NaN</td><td>true</td><td>false</td><td>0</td><td>false</td><td>&quot;2024-10-01&quot;</td><td>&quot;2024-10-01T00&quot;</td><td>7</td><td>1</td><td>107662</td><td>107683</td><td>&quot;4e3552464c&quot;</td></tr><tr><td>&quot;s856b0b83b6&quot;</td><td>&quot;s856b0b83b6&quot;</td><td>&quot;desktop&quot;</td><td>2</td><td>&quot;https://www.beusable.net/ko/&quot;</td><td>0</td><td>false</td><td>&quot;Direct&quot;</td><td>&quot;1VNYTFN4&quot;</td><td>false</td><td>1368.0</td><td>false</td><td>false</td><td>0</td><td>false</td><td>&quot;2024-10-01&quot;</td><td>&quot;2024-10-01T00&quot;</td><td>0</td><td>1</td><td>4930</td><td>-1</td><td>&quot;&quot;</td></tr><tr><td>&hellip;</td><td>&hellip;</td><td>&hellip;</td><td>&hellip;</td><td>&hellip;</td><td>&hellip;</td><td>&hellip;</td><td>&hellip;</td><td>&hellip;</td><td>&hellip;</td><td>&hellip;</td><td>&hellip;</td><td>&hellip;</td><td>&hellip;</td><td>&hellip;</td><td>&hellip;</td><td>&hellip;</td><td>&hellip;</td><td>&hellip;</td><td>&hellip;</td><td>&hellip;</td><td>&hellip;</td></tr><tr><td>&quot;s26d51d1895&quot;</td><td>&quot;s856b0b83b6&quot;</td><td>&quot;desktop&quot;</td><td>131</td><td>&quot;https://forum.beusable.net/en/…</td><td>1</td><td>false</td><td>&quot;https://forum.beusable.net/en/…</td><td>&quot;FENyROrN&quot;</td><td>false</td><td>1.0</td><td>false</td><td>true</td><td>0</td><td>true</td><td>&quot;2024-05-31&quot;</td><td>&quot;2024-05-31T23&quot;</td><td>3</td><td>1</td><td>114342</td><td>173341</td><td>&quot;0cf09f5a25&quot;</td></tr><tr><td>&quot;s26d51d1895&quot;</td><td>&quot;s856b0b83b6&quot;</td><td>&quot;desktop&quot;</td><td>131</td><td>&quot;https://forum.beusable.net/en/…</td><td>1</td><td>false</td><td>&quot;https://forum.beusable.net/en/…</td><td>&quot;FENyROrN&quot;</td><td>false</td><td>97783.0</td><td>false</td><td>true</td><td>1</td><td>false</td><td>&quot;2024-05-31&quot;</td><td>&quot;2024-05-31T23&quot;</td><td>3</td><td>1</td><td>114342</td><td>173341</td><td>&quot;0cf09f5a25&quot;</td></tr><tr><td>&quot;s26d51d1895&quot;</td><td>&quot;s856b0b83b6&quot;</td><td>&quot;desktop&quot;</td><td>128</td><td>&quot;https://forum.beusable.net/en/…</td><td>2</td><td>true</td><td>&quot;https://forum.beusable.net/en/…</td><td>&quot;FENyROrN&quot;</td><td>true</td><td>108364.0</td><td>false</td><td>true</td><td>0</td><td>false</td><td>&quot;2024-05-31&quot;</td><td>&quot;2024-05-31T23&quot;</td><td>4</td><td>1</td><td>114339</td><td>114342</td><td>&quot;470b1994bd&quot;</td></tr><tr><td>&quot;s26d51d1895&quot;</td><td>&quot;s856b0b83b6&quot;</td><td>&quot;desktop&quot;</td><td>131</td><td>&quot;https://forum.beusable.net/en/…</td><td>1</td><td>false</td><td>&quot;https://forum.beusable.net/en/…</td><td>&quot;FENyROrN&quot;</td><td>false</td><td>12231.0</td><td>false</td><td>true</td><td>0</td><td>true</td><td>&quot;2024-05-31&quot;</td><td>&quot;2024-05-31T23&quot;</td><td>3</td><td>1</td><td>114342</td><td>173341</td><td>&quot;0cf09f5a25&quot;</td></tr><tr><td>&quot;s26d51d1895&quot;</td><td>&quot;s856b0b83b6&quot;</td><td>&quot;desktop&quot;</td><td>132</td><td>&quot;https://forum.beusable.net/en/…</td><td>2</td><td>false</td><td>&quot;https://forum.beusable.net/en/…</td><td>&quot;FENyROrN&quot;</td><td>false</td><td>NaN</td><td>true</td><td>true</td><td>0</td><td>false</td><td>&quot;2024-05-31&quot;</td><td>&quot;2024-05-31T23&quot;</td><td>4</td><td>1</td><td>114343</td><td>114342</td><td>&quot;470b1994bd&quot;</td></tr></tbody></table></div>"
      ],
      "text/plain": [
       "shape: (627_260, 22)\n",
       "┌─────────────┬─────────────┬─────────┬───────┬───┬─────────────┬────────┬────────────┬────────────┐\n",
       "│ sid         ┆ parentSid   ┆ device  ┆ urlId ┆ … ┆ initialRefe ┆ gUrlId ┆ prevNodeId ┆ nodePath   │\n",
       "│ ---         ┆ ---         ┆ ---     ┆ ---   ┆   ┆ rId         ┆ ---    ┆ ---        ┆ ---        │\n",
       "│ str         ┆ str         ┆ str     ┆ i64   ┆   ┆ ---         ┆ i64    ┆ i64        ┆ str        │\n",
       "│             ┆             ┆         ┆       ┆   ┆ i64         ┆        ┆            ┆            │\n",
       "╞═════════════╪═════════════╪═════════╪═══════╪═══╪═════════════╪════════╪════════════╪════════════╡\n",
       "│ s514a626c39 ┆ s856b0b83b6 ┆ desktop ┆ 4     ┆ … ┆ 1           ┆ 107630 ┆ 95123      ┆ 416092b9f0 │\n",
       "│ s514a626c39 ┆ s856b0b83b6 ┆ desktop ┆ 32    ┆ … ┆ 1           ┆ 107663 ┆ 107630     ┆ c99e1ae00b │\n",
       "│ s514a626c39 ┆ s856b0b83b6 ┆ desktop ┆ 50    ┆ … ┆ 1           ┆ 107683 ┆ 107663     ┆ c1aec9d5d9 │\n",
       "│ s514a626c39 ┆ s856b0b83b6 ┆ desktop ┆ 31    ┆ … ┆ 1           ┆ 107662 ┆ 107683     ┆ 4e3552464c │\n",
       "│ s856b0b83b6 ┆ s856b0b83b6 ┆ desktop ┆ 2     ┆ … ┆ 1           ┆ 4930   ┆ -1         ┆            │\n",
       "│ …           ┆ …           ┆ …       ┆ …     ┆ … ┆ …           ┆ …      ┆ …          ┆ …          │\n",
       "│ s26d51d1895 ┆ s856b0b83b6 ┆ desktop ┆ 131   ┆ … ┆ 1           ┆ 114342 ┆ 173341     ┆ 0cf09f5a25 │\n",
       "│ s26d51d1895 ┆ s856b0b83b6 ┆ desktop ┆ 131   ┆ … ┆ 1           ┆ 114342 ┆ 173341     ┆ 0cf09f5a25 │\n",
       "│ s26d51d1895 ┆ s856b0b83b6 ┆ desktop ┆ 128   ┆ … ┆ 1           ┆ 114339 ┆ 114342     ┆ 470b1994bd │\n",
       "│ s26d51d1895 ┆ s856b0b83b6 ┆ desktop ┆ 131   ┆ … ┆ 1           ┆ 114342 ┆ 173341     ┆ 0cf09f5a25 │\n",
       "│ s26d51d1895 ┆ s856b0b83b6 ┆ desktop ┆ 132   ┆ … ┆ 1           ┆ 114343 ┆ 114342     ┆ 470b1994bd │\n",
       "└─────────────┴─────────────┴─────────┴───────┴───┴─────────────┴────────┴────────────┴────────────┘"
      ]
     },
     "execution_count": 20,
     "metadata": {},
     "output_type": "execute_result"
    }
   ],
   "source": [
    "raw_data_set = df.join(\n",
    "    session_df.select(\"sessionId\").unique(),\n",
    "    on=\"sessionId\",\n",
    "    how=\"semi\",\n",
    ")\n",
    "raw_data_set"
   ]
  },
  {
   "cell_type": "code",
   "execution_count": 21,
   "metadata": {},
   "outputs": [
    {
     "data": {
      "text/html": [
       "<div><style>\n",
       ".dataframe > thead > tr,\n",
       ".dataframe > tbody > tr {\n",
       "  text-align: right;\n",
       "  white-space: pre-wrap;\n",
       "}\n",
       "</style>\n",
       "<small>shape: (8, 22)</small><table border=\"1\" class=\"dataframe\"><thead><tr><th>sid</th><th>parentSid</th><th>device</th><th>urlId</th><th>url</th><th>seq</th><th>useless</th><th>fullReferStr</th><th>sessionId</th><th>uTurnPoint</th><th>interval</th><th>lastOrder</th><th>exist</th><th>reloadCount</th><th>rollback</th><th>dateStr</th><th>dateHourStr</th><th>parentSeq</th><th>initialReferId</th><th>gUrlId</th><th>prevNodeId</th><th>nodePath</th></tr><tr><td>str</td><td>str</td><td>str</td><td>i64</td><td>str</td><td>i64</td><td>bool</td><td>str</td><td>str</td><td>bool</td><td>f64</td><td>bool</td><td>bool</td><td>i64</td><td>bool</td><td>str</td><td>str</td><td>i64</td><td>i64</td><td>i64</td><td>i64</td><td>str</td></tr></thead><tbody><tr><td>&quot;s856b0b83b6&quot;</td><td>&quot;s856b0b83b6&quot;</td><td>&quot;desktop&quot;</td><td>2</td><td>&quot;https://www.beusable.net/ko/&quot;</td><td>0</td><td>false</td><td>&quot;Direct&quot;</td><td>&quot;1VNYTFN4&quot;</td><td>false</td><td>1368.0</td><td>false</td><td>false</td><td>0</td><td>false</td><td>&quot;2024-10-01&quot;</td><td>&quot;2024-10-01T00&quot;</td><td>0</td><td>1</td><td>4930</td><td>-1</td><td>&quot;&quot;</td></tr><tr><td>&quot;s856b0b83b6&quot;</td><td>&quot;s856b0b83b6&quot;</td><td>&quot;desktop&quot;</td><td>125</td><td>&quot;https://www.beusable.net/signi…</td><td>1</td><td>false</td><td>&quot;https://www.beusable.net/ko/&quot;</td><td>&quot;1VNYTFN4&quot;</td><td>false</td><td>14792.0</td><td>false</td><td>false</td><td>0</td><td>false</td><td>&quot;2024-10-01&quot;</td><td>&quot;2024-10-01T00&quot;</td><td>1</td><td>1</td><td>95121</td><td>4930</td><td>&quot;637e15cea9&quot;</td></tr><tr><td>&quot;s856b0b83b6&quot;</td><td>&quot;s856b0b83b6&quot;</td><td>&quot;desktop&quot;</td><td>125</td><td>&quot;https://www.beusable.net/signi…</td><td>2</td><td>false</td><td>&quot;https://www.beusable.net/signi…</td><td>&quot;1VNYTFN4&quot;</td><td>false</td><td>295.0</td><td>false</td><td>false</td><td>0</td><td>false</td><td>&quot;2024-10-01&quot;</td><td>&quot;2024-10-01T00&quot;</td><td>2</td><td>1</td><td>95121</td><td>95121</td><td>&quot;8a661ea871&quot;</td></tr><tr><td>&quot;s856b0b83b6&quot;</td><td>&quot;s856b0b83b6&quot;</td><td>&quot;desktop&quot;</td><td>127</td><td>&quot;https://www.beusable.net/my&quot;</td><td>3</td><td>false</td><td>&quot;https://www.beusable.net/signi…</td><td>&quot;1VNYTFN4&quot;</td><td>false</td><td>1688.0</td><td>false</td><td>false</td><td>0</td><td>false</td><td>&quot;2024-10-01&quot;</td><td>&quot;2024-10-01T00&quot;</td><td>3</td><td>1</td><td>95123</td><td>95121</td><td>&quot;7d6e633c49&quot;</td></tr><tr><td>&quot;s514a626c39&quot;</td><td>&quot;s856b0b83b6&quot;</td><td>&quot;desktop&quot;</td><td>4</td><td>&quot;https://tool.beusable.net/dash…</td><td>1</td><td>false</td><td>&quot;https://www.beusable.net/my&quot;</td><td>&quot;1VNYTFN4&quot;</td><td>false</td><td>78605.0</td><td>false</td><td>false</td><td>0</td><td>false</td><td>&quot;2024-10-01&quot;</td><td>&quot;2024-10-01T00&quot;</td><td>4</td><td>1</td><td>107630</td><td>95123</td><td>&quot;416092b9f0&quot;</td></tr><tr><td>&quot;s514a626c39&quot;</td><td>&quot;s856b0b83b6&quot;</td><td>&quot;desktop&quot;</td><td>32</td><td>&quot;https://tool.beusable.net/user…</td><td>2</td><td>false</td><td>&quot;https://tool.beusable.net/dash…</td><td>&quot;1VNYTFN4&quot;</td><td>false</td><td>52116.0</td><td>false</td><td>false</td><td>0</td><td>false</td><td>&quot;2024-10-01&quot;</td><td>&quot;2024-10-01T00&quot;</td><td>5</td><td>1</td><td>107663</td><td>107630</td><td>&quot;c99e1ae00b&quot;</td></tr><tr><td>&quot;s514a626c39&quot;</td><td>&quot;s856b0b83b6&quot;</td><td>&quot;desktop&quot;</td><td>50</td><td>&quot;https://tool.beusable.net/user…</td><td>3</td><td>false</td><td>&quot;https://tool.beusable.net/user…</td><td>&quot;1VNYTFN4&quot;</td><td>false</td><td>546.0</td><td>false</td><td>false</td><td>0</td><td>false</td><td>&quot;2024-10-01&quot;</td><td>&quot;2024-10-01T00&quot;</td><td>6</td><td>1</td><td>107683</td><td>107663</td><td>&quot;c1aec9d5d9&quot;</td></tr><tr><td>&quot;s514a626c39&quot;</td><td>&quot;s856b0b83b6&quot;</td><td>&quot;desktop&quot;</td><td>31</td><td>&quot;https://tool.beusable.net/user…</td><td>4</td><td>false</td><td>&quot;https://tool.beusable.net/user…</td><td>&quot;1VNYTFN4&quot;</td><td>false</td><td>NaN</td><td>true</td><td>false</td><td>0</td><td>false</td><td>&quot;2024-10-01&quot;</td><td>&quot;2024-10-01T00&quot;</td><td>7</td><td>1</td><td>107662</td><td>107683</td><td>&quot;4e3552464c&quot;</td></tr></tbody></table></div>"
      ],
      "text/plain": [
       "shape: (8, 22)\n",
       "┌─────────────┬─────────────┬─────────┬───────┬───┬─────────────┬────────┬────────────┬────────────┐\n",
       "│ sid         ┆ parentSid   ┆ device  ┆ urlId ┆ … ┆ initialRefe ┆ gUrlId ┆ prevNodeId ┆ nodePath   │\n",
       "│ ---         ┆ ---         ┆ ---     ┆ ---   ┆   ┆ rId         ┆ ---    ┆ ---        ┆ ---        │\n",
       "│ str         ┆ str         ┆ str     ┆ i64   ┆   ┆ ---         ┆ i64    ┆ i64        ┆ str        │\n",
       "│             ┆             ┆         ┆       ┆   ┆ i64         ┆        ┆            ┆            │\n",
       "╞═════════════╪═════════════╪═════════╪═══════╪═══╪═════════════╪════════╪════════════╪════════════╡\n",
       "│ s856b0b83b6 ┆ s856b0b83b6 ┆ desktop ┆ 2     ┆ … ┆ 1           ┆ 4930   ┆ -1         ┆            │\n",
       "│ s856b0b83b6 ┆ s856b0b83b6 ┆ desktop ┆ 125   ┆ … ┆ 1           ┆ 95121  ┆ 4930       ┆ 637e15cea9 │\n",
       "│ s856b0b83b6 ┆ s856b0b83b6 ┆ desktop ┆ 125   ┆ … ┆ 1           ┆ 95121  ┆ 95121      ┆ 8a661ea871 │\n",
       "│ s856b0b83b6 ┆ s856b0b83b6 ┆ desktop ┆ 127   ┆ … ┆ 1           ┆ 95123  ┆ 95121      ┆ 7d6e633c49 │\n",
       "│ s514a626c39 ┆ s856b0b83b6 ┆ desktop ┆ 4     ┆ … ┆ 1           ┆ 107630 ┆ 95123      ┆ 416092b9f0 │\n",
       "│ s514a626c39 ┆ s856b0b83b6 ┆ desktop ┆ 32    ┆ … ┆ 1           ┆ 107663 ┆ 107630     ┆ c99e1ae00b │\n",
       "│ s514a626c39 ┆ s856b0b83b6 ┆ desktop ┆ 50    ┆ … ┆ 1           ┆ 107683 ┆ 107663     ┆ c1aec9d5d9 │\n",
       "│ s514a626c39 ┆ s856b0b83b6 ┆ desktop ┆ 31    ┆ … ┆ 1           ┆ 107662 ┆ 107683     ┆ 4e3552464c │\n",
       "└─────────────┴─────────────┴─────────┴───────┴───┴─────────────┴────────┴────────────┴────────────┘"
      ]
     },
     "execution_count": 21,
     "metadata": {},
     "output_type": "execute_result"
    }
   ],
   "source": [
    "raw_data_set.filter(pl.col(\"sessionId\") == \"1VNYTFN4\").sort(\"parentSeq\")"
   ]
  },
  {
   "cell_type": "code",
   "execution_count": 22,
   "metadata": {
    "ExecuteTime": {
     "end_time": "2025-09-02T05:14:42.648567Z",
     "start_time": "2025-09-02T05:14:42.595619Z"
    }
   },
   "outputs": [
    {
     "data": {
      "text/html": [
       "<div><style>\n",
       ".dataframe > thead > tr,\n",
       ".dataframe > tbody > tr {\n",
       "  text-align: right;\n",
       "  white-space: pre-wrap;\n",
       "}\n",
       "</style>\n",
       "<small>shape: (45_934, 9)</small><table border=\"1\" class=\"dataframe\"><thead><tr><th>sessionId</th><th>urlId</th><th>reloadCount</th><th>exist</th><th>rollback</th><th>uTurnPoint</th><th>lastOrder</th><th>device</th><th>initialReferId</th></tr><tr><td>str</td><td>list[i64]</td><td>list[i64]</td><td>list[bool]</td><td>list[bool]</td><td>list[bool]</td><td>list[bool]</td><td>str</td><td>i64</td></tr></thead><tbody><tr><td>&quot;006JtXoj&quot;</td><td>[2, 2, … 50]</td><td>[0, 0, … 0]</td><td>[true, true, … true]</td><td>[false, false, … false]</td><td>[false, false, … false]</td><td>[false, true, … false]</td><td>&quot;desktop&quot;</td><td>1</td></tr><tr><td>&quot;0094VTgv&quot;</td><td>[1, 8, … 127]</td><td>[0, 0, … 0]</td><td>[true, true, … true]</td><td>[false, false, … false]</td><td>[false, false, … false]</td><td>[false, false, … false]</td><td>&quot;desktop&quot;</td><td>2</td></tr><tr><td>&quot;009RZOGn&quot;</td><td>[4, 1, … 127]</td><td>[0, 0, … 0]</td><td>[true, true, … true]</td><td>[false, false, … false]</td><td>[false, false, … false]</td><td>[false, false, … false]</td><td>&quot;desktop&quot;</td><td>2</td></tr><tr><td>&quot;00E2R2Ph&quot;</td><td>[1, 98, … 127]</td><td>[0, 0, … 0]</td><td>[true, true, … true]</td><td>[false, false, … false]</td><td>[false, false, … false]</td><td>[false, false, … false]</td><td>&quot;desktop&quot;</td><td>1</td></tr><tr><td>&quot;00KVI1V8&quot;</td><td>[4, 505, … 127]</td><td>[0, 0, … 0]</td><td>[false, false, … false]</td><td>[false, false, … false]</td><td>[false, false, … false]</td><td>[false, false, … false]</td><td>&quot;desktop&quot;</td><td>148</td></tr><tr><td>&hellip;</td><td>&hellip;</td><td>&hellip;</td><td>&hellip;</td><td>&hellip;</td><td>&hellip;</td><td>&hellip;</td><td>&hellip;</td><td>&hellip;</td></tr><tr><td>&quot;zzixRnRt&quot;</td><td>[146, 2459, … 4274]</td><td>[0, 0, … 0]</td><td>[true, true, … true]</td><td>[false, false, … false]</td><td>[false, false, … false]</td><td>[false, false, … true]</td><td>&quot;desktop&quot;</td><td>1</td></tr><tr><td>&quot;zzl2SjBI&quot;</td><td>[1, 7, … 127]</td><td>[0, 0, … 0]</td><td>[true, true, … true]</td><td>[false, false, … false]</td><td>[false, false, … false]</td><td>[false, true, … false]</td><td>&quot;desktop&quot;</td><td>2</td></tr><tr><td>&quot;zzmJfQFw&quot;</td><td>[13, 1, … 127]</td><td>[0, 0, … 0]</td><td>[false, false, … false]</td><td>[false, false, … false]</td><td>[false, false, … false]</td><td>[false, false, … false]</td><td>&quot;desktop&quot;</td><td>2</td></tr><tr><td>&quot;zzvTp18g&quot;</td><td>[4, 51542, … 127]</td><td>[0, 0, … 0]</td><td>[true, true, … true]</td><td>[false, false, … false]</td><td>[false, false, … false]</td><td>[false, false, … false]</td><td>&quot;desktop&quot;</td><td>148</td></tr><tr><td>&quot;zzx4HcW2&quot;</td><td>[1, 125, … 127]</td><td>[0, 0, … 0]</td><td>[true, true, … true]</td><td>[false, false, … false]</td><td>[false, false, … false]</td><td>[false, false, … true]</td><td>&quot;desktop&quot;</td><td>1</td></tr></tbody></table></div>"
      ],
      "text/plain": [
       "shape: (45_934, 9)\n",
       "┌───────────┬────────────┬───────────┬───────────┬───┬───────────┬───────────┬─────────┬───────────┐\n",
       "│ sessionId ┆ urlId      ┆ reloadCou ┆ exist     ┆ … ┆ uTurnPoin ┆ lastOrder ┆ device  ┆ initialRe │\n",
       "│ ---       ┆ ---        ┆ nt        ┆ ---       ┆   ┆ t         ┆ ---       ┆ ---     ┆ ferId     │\n",
       "│ str       ┆ list[i64]  ┆ ---       ┆ list[bool ┆   ┆ ---       ┆ list[bool ┆ str     ┆ ---       │\n",
       "│           ┆            ┆ list[i64] ┆ ]         ┆   ┆ list[bool ┆ ]         ┆         ┆ i64       │\n",
       "│           ┆            ┆           ┆           ┆   ┆ ]         ┆           ┆         ┆           │\n",
       "╞═══════════╪════════════╪═══════════╪═══════════╪═══╪═══════════╪═══════════╪═════════╪═══════════╡\n",
       "│ 006JtXoj  ┆ [2, 2, …   ┆ [0, 0, …  ┆ [true,    ┆ … ┆ [false,   ┆ [false,   ┆ desktop ┆ 1         │\n",
       "│           ┆ 50]        ┆ 0]        ┆ true, …   ┆   ┆ false, …  ┆ true, …   ┆         ┆           │\n",
       "│           ┆            ┆           ┆ true]     ┆   ┆ false]    ┆ false]    ┆         ┆           │\n",
       "│ 0094VTgv  ┆ [1, 8, …   ┆ [0, 0, …  ┆ [true,    ┆ … ┆ [false,   ┆ [false,   ┆ desktop ┆ 2         │\n",
       "│           ┆ 127]       ┆ 0]        ┆ true, …   ┆   ┆ false, …  ┆ false, …  ┆         ┆           │\n",
       "│           ┆            ┆           ┆ true]     ┆   ┆ false]    ┆ false]    ┆         ┆           │\n",
       "│ 009RZOGn  ┆ [4, 1, …   ┆ [0, 0, …  ┆ [true,    ┆ … ┆ [false,   ┆ [false,   ┆ desktop ┆ 2         │\n",
       "│           ┆ 127]       ┆ 0]        ┆ true, …   ┆   ┆ false, …  ┆ false, …  ┆         ┆           │\n",
       "│           ┆            ┆           ┆ true]     ┆   ┆ false]    ┆ false]    ┆         ┆           │\n",
       "│ 00E2R2Ph  ┆ [1, 98, …  ┆ [0, 0, …  ┆ [true,    ┆ … ┆ [false,   ┆ [false,   ┆ desktop ┆ 1         │\n",
       "│           ┆ 127]       ┆ 0]        ┆ true, …   ┆   ┆ false, …  ┆ false, …  ┆         ┆           │\n",
       "│           ┆            ┆           ┆ true]     ┆   ┆ false]    ┆ false]    ┆         ┆           │\n",
       "│ 00KVI1V8  ┆ [4, 505, … ┆ [0, 0, …  ┆ [false,   ┆ … ┆ [false,   ┆ [false,   ┆ desktop ┆ 148       │\n",
       "│           ┆ 127]       ┆ 0]        ┆ false, …  ┆   ┆ false, …  ┆ false, …  ┆         ┆           │\n",
       "│           ┆            ┆           ┆ false]    ┆   ┆ false]    ┆ false]    ┆         ┆           │\n",
       "│ …         ┆ …          ┆ …         ┆ …         ┆ … ┆ …         ┆ …         ┆ …       ┆ …         │\n",
       "│ zzixRnRt  ┆ [146,      ┆ [0, 0, …  ┆ [true,    ┆ … ┆ [false,   ┆ [false,   ┆ desktop ┆ 1         │\n",
       "│           ┆ 2459, …    ┆ 0]        ┆ true, …   ┆   ┆ false, …  ┆ false, …  ┆         ┆           │\n",
       "│           ┆ 4274]      ┆           ┆ true]     ┆   ┆ false]    ┆ true]     ┆         ┆           │\n",
       "│ zzl2SjBI  ┆ [1, 7, …   ┆ [0, 0, …  ┆ [true,    ┆ … ┆ [false,   ┆ [false,   ┆ desktop ┆ 2         │\n",
       "│           ┆ 127]       ┆ 0]        ┆ true, …   ┆   ┆ false, …  ┆ true, …   ┆         ┆           │\n",
       "│           ┆            ┆           ┆ true]     ┆   ┆ false]    ┆ false]    ┆         ┆           │\n",
       "│ zzmJfQFw  ┆ [13, 1, …  ┆ [0, 0, …  ┆ [false,   ┆ … ┆ [false,   ┆ [false,   ┆ desktop ┆ 2         │\n",
       "│           ┆ 127]       ┆ 0]        ┆ false, …  ┆   ┆ false, …  ┆ false, …  ┆         ┆           │\n",
       "│           ┆            ┆           ┆ false]    ┆   ┆ false]    ┆ false]    ┆         ┆           │\n",
       "│ zzvTp18g  ┆ [4, 51542, ┆ [0, 0, …  ┆ [true,    ┆ … ┆ [false,   ┆ [false,   ┆ desktop ┆ 148       │\n",
       "│           ┆ … 127]     ┆ 0]        ┆ true, …   ┆   ┆ false, …  ┆ false, …  ┆         ┆           │\n",
       "│           ┆            ┆           ┆ true]     ┆   ┆ false]    ┆ false]    ┆         ┆           │\n",
       "│ zzx4HcW2  ┆ [1, 125, … ┆ [0, 0, …  ┆ [true,    ┆ … ┆ [false,   ┆ [false,   ┆ desktop ┆ 1         │\n",
       "│           ┆ 127]       ┆ 0]        ┆ true, …   ┆   ┆ false, …  ┆ false, …  ┆         ┆           │\n",
       "│           ┆            ┆           ┆ true]     ┆   ┆ false]    ┆ true]     ┆         ┆           │\n",
       "└───────────┴────────────┴───────────┴───────────┴───┴───────────┴───────────┴─────────┴───────────┘"
      ]
     },
     "execution_count": 22,
     "metadata": {},
     "output_type": "execute_result"
    }
   ],
   "source": [
    "raw_data = (\n",
    "    raw_data_set.group_by(\"sessionId\")\n",
    "    .agg(\n",
    "        # input\n",
    "        pl.col(\"urlId\").alias(\"urlId\"),\n",
    "        pl.col(\"reloadCount\").alias(\"reloadCount\"),\n",
    "        pl.col(\"exist\").alias(\"exist\"),\n",
    "        pl.col(\"rollback\").alias(\"rollback\"),\n",
    "        pl.col(\"uTurnPoint\").alias(\"uTurnPoint\"),\n",
    "        pl.col(\"lastOrder\").alias(\"lastOrder\"),\n",
    "\n",
    "        # broadcast context\n",
    "        pl.first(\"device\").alias(\"device\"),\n",
    "        pl.first(\"initialReferId\").alias(\"initialReferId\")\n",
    "    )\n",
    ").sort(\"sessionId\")\n",
    "raw_data"
   ]
  },
  {
   "cell_type": "code",
   "execution_count": 27,
   "metadata": {},
   "outputs": [
    {
     "name": "stdout",
     "output_type": "stream",
     "text": [
      "463\n"
     ]
    }
   ],
   "source": [
    "df = raw_data.with_columns(pl.col(\"urlId\").list.len().alias(\"seqLength\"))\n",
    "\n",
    "rows_to_drop = (\n",
    "    df.with_row_index(\"row_nr\")\n",
    "      .filter(pl.col(\"seqLength\") <= 3)\n",
    "      .get_column(\"row_nr\")\n",
    "      .to_list()\n",
    ")\n",
    "print(len(rows_to_drop))"
   ]
  },
  {
   "cell_type": "code",
   "execution_count": 26,
   "metadata": {},
   "outputs": [
    {
     "data": {
      "text/html": [
       "<div><style>\n",
       ".dataframe > thead > tr,\n",
       ".dataframe > tbody > tr {\n",
       "  text-align: right;\n",
       "  white-space: pre-wrap;\n",
       "}\n",
       "</style>\n",
       "<small>shape: (45_471, 10)</small><table border=\"1\" class=\"dataframe\"><thead><tr><th>sessionId</th><th>urlId</th><th>reloadCount</th><th>exist</th><th>rollback</th><th>uTurnPoint</th><th>lastOrder</th><th>device</th><th>initialReferId</th><th>seqLength</th></tr><tr><td>str</td><td>list[i64]</td><td>list[i64]</td><td>list[bool]</td><td>list[bool]</td><td>list[bool]</td><td>list[bool]</td><td>str</td><td>i64</td><td>u32</td></tr></thead><tbody><tr><td>&quot;006JtXoj&quot;</td><td>[2, 2, … 50]</td><td>[0, 0, … 0]</td><td>[true, true, … true]</td><td>[false, false, … false]</td><td>[false, false, … false]</td><td>[false, true, … false]</td><td>&quot;desktop&quot;</td><td>1</td><td>9</td></tr><tr><td>&quot;0094VTgv&quot;</td><td>[1, 8, … 127]</td><td>[0, 0, … 0]</td><td>[true, true, … true]</td><td>[false, false, … false]</td><td>[false, false, … false]</td><td>[false, false, … false]</td><td>&quot;desktop&quot;</td><td>2</td><td>7</td></tr><tr><td>&quot;009RZOGn&quot;</td><td>[4, 1, … 127]</td><td>[0, 0, … 0]</td><td>[true, true, … true]</td><td>[false, false, … false]</td><td>[false, false, … false]</td><td>[false, false, … false]</td><td>&quot;desktop&quot;</td><td>2</td><td>10</td></tr><tr><td>&quot;00E2R2Ph&quot;</td><td>[1, 98, … 127]</td><td>[0, 0, … 0]</td><td>[true, true, … true]</td><td>[false, false, … false]</td><td>[false, false, … false]</td><td>[false, false, … false]</td><td>&quot;desktop&quot;</td><td>1</td><td>10</td></tr><tr><td>&quot;00KVI1V8&quot;</td><td>[4, 505, … 127]</td><td>[0, 0, … 0]</td><td>[false, false, … false]</td><td>[false, false, … false]</td><td>[false, false, … false]</td><td>[false, false, … false]</td><td>&quot;desktop&quot;</td><td>148</td><td>5</td></tr><tr><td>&hellip;</td><td>&hellip;</td><td>&hellip;</td><td>&hellip;</td><td>&hellip;</td><td>&hellip;</td><td>&hellip;</td><td>&hellip;</td><td>&hellip;</td><td>&hellip;</td></tr><tr><td>&quot;zzixRnRt&quot;</td><td>[146, 2459, … 4274]</td><td>[0, 0, … 0]</td><td>[true, true, … true]</td><td>[false, false, … false]</td><td>[false, false, … false]</td><td>[false, false, … true]</td><td>&quot;desktop&quot;</td><td>1</td><td>5</td></tr><tr><td>&quot;zzl2SjBI&quot;</td><td>[1, 7, … 127]</td><td>[0, 0, … 0]</td><td>[true, true, … true]</td><td>[false, false, … false]</td><td>[false, false, … false]</td><td>[false, true, … false]</td><td>&quot;desktop&quot;</td><td>2</td><td>6</td></tr><tr><td>&quot;zzmJfQFw&quot;</td><td>[13, 1, … 127]</td><td>[0, 0, … 0]</td><td>[false, false, … false]</td><td>[false, false, … false]</td><td>[false, false, … false]</td><td>[false, false, … false]</td><td>&quot;desktop&quot;</td><td>2</td><td>12</td></tr><tr><td>&quot;zzvTp18g&quot;</td><td>[4, 51542, … 127]</td><td>[0, 0, … 0]</td><td>[true, true, … true]</td><td>[false, false, … false]</td><td>[false, false, … false]</td><td>[false, false, … false]</td><td>&quot;desktop&quot;</td><td>148</td><td>5</td></tr><tr><td>&quot;zzx4HcW2&quot;</td><td>[1, 125, … 127]</td><td>[0, 0, … 0]</td><td>[true, true, … true]</td><td>[false, false, … false]</td><td>[false, false, … false]</td><td>[false, false, … true]</td><td>&quot;desktop&quot;</td><td>1</td><td>4</td></tr></tbody></table></div>"
      ],
      "text/plain": [
       "shape: (45_471, 10)\n",
       "┌───────────┬────────────┬───────────┬───────────┬───┬───────────┬─────────┬───────────┬───────────┐\n",
       "│ sessionId ┆ urlId      ┆ reloadCou ┆ exist     ┆ … ┆ lastOrder ┆ device  ┆ initialRe ┆ seqLength │\n",
       "│ ---       ┆ ---        ┆ nt        ┆ ---       ┆   ┆ ---       ┆ ---     ┆ ferId     ┆ ---       │\n",
       "│ str       ┆ list[i64]  ┆ ---       ┆ list[bool ┆   ┆ list[bool ┆ str     ┆ ---       ┆ u32       │\n",
       "│           ┆            ┆ list[i64] ┆ ]         ┆   ┆ ]         ┆         ┆ i64       ┆           │\n",
       "╞═══════════╪════════════╪═══════════╪═══════════╪═══╪═══════════╪═════════╪═══════════╪═══════════╡\n",
       "│ 006JtXoj  ┆ [2, 2, …   ┆ [0, 0, …  ┆ [true,    ┆ … ┆ [false,   ┆ desktop ┆ 1         ┆ 9         │\n",
       "│           ┆ 50]        ┆ 0]        ┆ true, …   ┆   ┆ true, …   ┆         ┆           ┆           │\n",
       "│           ┆            ┆           ┆ true]     ┆   ┆ false]    ┆         ┆           ┆           │\n",
       "│ 0094VTgv  ┆ [1, 8, …   ┆ [0, 0, …  ┆ [true,    ┆ … ┆ [false,   ┆ desktop ┆ 2         ┆ 7         │\n",
       "│           ┆ 127]       ┆ 0]        ┆ true, …   ┆   ┆ false, …  ┆         ┆           ┆           │\n",
       "│           ┆            ┆           ┆ true]     ┆   ┆ false]    ┆         ┆           ┆           │\n",
       "│ 009RZOGn  ┆ [4, 1, …   ┆ [0, 0, …  ┆ [true,    ┆ … ┆ [false,   ┆ desktop ┆ 2         ┆ 10        │\n",
       "│           ┆ 127]       ┆ 0]        ┆ true, …   ┆   ┆ false, …  ┆         ┆           ┆           │\n",
       "│           ┆            ┆           ┆ true]     ┆   ┆ false]    ┆         ┆           ┆           │\n",
       "│ 00E2R2Ph  ┆ [1, 98, …  ┆ [0, 0, …  ┆ [true,    ┆ … ┆ [false,   ┆ desktop ┆ 1         ┆ 10        │\n",
       "│           ┆ 127]       ┆ 0]        ┆ true, …   ┆   ┆ false, …  ┆         ┆           ┆           │\n",
       "│           ┆            ┆           ┆ true]     ┆   ┆ false]    ┆         ┆           ┆           │\n",
       "│ 00KVI1V8  ┆ [4, 505, … ┆ [0, 0, …  ┆ [false,   ┆ … ┆ [false,   ┆ desktop ┆ 148       ┆ 5         │\n",
       "│           ┆ 127]       ┆ 0]        ┆ false, …  ┆   ┆ false, …  ┆         ┆           ┆           │\n",
       "│           ┆            ┆           ┆ false]    ┆   ┆ false]    ┆         ┆           ┆           │\n",
       "│ …         ┆ …          ┆ …         ┆ …         ┆ … ┆ …         ┆ …       ┆ …         ┆ …         │\n",
       "│ zzixRnRt  ┆ [146,      ┆ [0, 0, …  ┆ [true,    ┆ … ┆ [false,   ┆ desktop ┆ 1         ┆ 5         │\n",
       "│           ┆ 2459, …    ┆ 0]        ┆ true, …   ┆   ┆ false, …  ┆         ┆           ┆           │\n",
       "│           ┆ 4274]      ┆           ┆ true]     ┆   ┆ true]     ┆         ┆           ┆           │\n",
       "│ zzl2SjBI  ┆ [1, 7, …   ┆ [0, 0, …  ┆ [true,    ┆ … ┆ [false,   ┆ desktop ┆ 2         ┆ 6         │\n",
       "│           ┆ 127]       ┆ 0]        ┆ true, …   ┆   ┆ true, …   ┆         ┆           ┆           │\n",
       "│           ┆            ┆           ┆ true]     ┆   ┆ false]    ┆         ┆           ┆           │\n",
       "│ zzmJfQFw  ┆ [13, 1, …  ┆ [0, 0, …  ┆ [false,   ┆ … ┆ [false,   ┆ desktop ┆ 2         ┆ 12        │\n",
       "│           ┆ 127]       ┆ 0]        ┆ false, …  ┆   ┆ false, …  ┆         ┆           ┆           │\n",
       "│           ┆            ┆           ┆ false]    ┆   ┆ false]    ┆         ┆           ┆           │\n",
       "│ zzvTp18g  ┆ [4, 51542, ┆ [0, 0, …  ┆ [true,    ┆ … ┆ [false,   ┆ desktop ┆ 148       ┆ 5         │\n",
       "│           ┆ … 127]     ┆ 0]        ┆ true, …   ┆   ┆ false, …  ┆         ┆           ┆           │\n",
       "│           ┆            ┆           ┆ true]     ┆   ┆ false]    ┆         ┆           ┆           │\n",
       "│ zzx4HcW2  ┆ [1, 125, … ┆ [0, 0, …  ┆ [true,    ┆ … ┆ [false,   ┆ desktop ┆ 1         ┆ 4         │\n",
       "│           ┆ 127]       ┆ 0]        ┆ true, …   ┆   ┆ false, …  ┆         ┆           ┆           │\n",
       "│           ┆            ┆           ┆ true]     ┆   ┆ true]     ┆         ┆           ┆           │\n",
       "└───────────┴────────────┴───────────┴───────────┴───┴───────────┴─────────┴───────────┴───────────┘"
      ]
     },
     "execution_count": 26,
     "metadata": {},
     "output_type": "execute_result"
    }
   ],
   "source": [
    "df_seq_over_3 = (\n",
    "    df.with_row_index(\"row_nr\")\n",
    "      .filter(~pl.col(\"row_nr\").is_in(rows_to_drop))\n",
    "      .drop(\"row_nr\")\n",
    ")\n",
    "df_seq_over_3"
   ]
  },
  {
   "cell_type": "code",
   "execution_count": null,
   "metadata": {},
   "outputs": [],
   "source": [
    "# 이제 stride로 정해진 시퀀스 길이에 맞게 row와 y라벨을 뽑아야한다."
   ]
  },
  {
   "cell_type": "code",
   "execution_count": null,
   "metadata": {},
   "outputs": [],
   "source": []
  },
  {
   "cell_type": "code",
   "execution_count": null,
   "metadata": {},
   "outputs": [],
   "source": []
  },
  {
   "cell_type": "code",
   "execution_count": null,
   "metadata": {},
   "outputs": [],
   "source": [
    "\n"
   ]
  },
  {
   "cell_type": "markdown",
   "metadata": {},
   "source": [
    "# 2. Model"
   ]
  },
  {
   "cell_type": "code",
   "execution_count": null,
   "metadata": {},
   "outputs": [],
   "source": [
    "# model.py\n",
    "import torch.nn as nn\n",
    "\n",
    "class SimpleTransformer(nn.Module):\n",
    "    def __init__(self, vocab_size, emb_dim=128, nhead=4, num_layers=2):\n",
    "        super().__init__()\n",
    "        self.embedding = nn.Embedding(vocab_size, emb_dim)\n",
    "        encoder_layer = nn.TransformerEncoderLayer(d_model=emb_dim, nhead=nhead)\n",
    "        self.transformer = nn.TransformerEncoder(encoder_layer, num_layers=num_layers)\n",
    "        self.output = nn.Linear(emb_dim, vocab_size)\n",
    "\n",
    "    def forward(self, x):\n",
    "        x = self.embedding(x)         # (B, T, D)\n",
    "        x = x.permute(1, 0, 2)        # (T, B, D)\n",
    "        out = self.transformer(x)     # (T, B, D)\n",
    "        return self.output(out[-1])   # 마지막 위치 출력만 예측"
   ]
  },
  {
   "cell_type": "code",
   "execution_count": null,
   "metadata": {},
   "outputs": [],
   "source": [
    "import torch\n",
    "import torch.nn as nn\n",
    "\n",
    "class PositionalEncoding(nn.Module):\n",
    "    def __init__(self, d_model, max_len=512):\n",
    "        super().__init__()\n",
    "        self.pe = nn.Embedding(max_len, d_model)\n",
    "\n",
    "    def forward(self, x):\n",
    "        # x: (B, T, D)\n",
    "        positions = torch.arange(x.size(1), device=x.device).unsqueeze(0)  # (1, T)\n",
    "        return x + self.pe(positions)  # broadcasting 됨\n",
    "\n",
    "class SimpleTransformerWithPositionalEncoding(nn.Module):\n",
    "    def __init__(self, vocab_size, emb_dim=128, nhead=4, num_layers=2, max_len=512):\n",
    "        super().__init__()\n",
    "        self.embedding = nn.Embedding(vocab_size, emb_dim)\n",
    "        self.pos_encoder = PositionalEncoding(emb_dim, max_len)\n",
    "\n",
    "        encoder_layer = nn.TransformerEncoderLayer(d_model=emb_dim, nhead=nhead)\n",
    "        self.transformer = nn.TransformerEncoder(encoder_layer, num_layers=num_layers)\n",
    "        self.output = nn.Linear(emb_dim, vocab_size)\n",
    "\n",
    "    def generate_causal_mask(self, seq_len, device):\n",
    "        # 하삼각 causal mask: future 정보 차단\n",
    "        mask = torch.triu(torch.ones(seq_len, seq_len), diagonal=1)\n",
    "        mask = mask.masked_fill(mask == 1, float('-inf'))\n",
    "        return mask.to(device)\n",
    "\n",
    "    def forward(self, x):\n",
    "        # x: (B, T)\n",
    "        x = self.embedding(x)              # (B, T, D)\n",
    "        x = self.pos_encoder(x)            # (B, T, D)\n",
    "        x = x.permute(1, 0, 2)             # (T, B, D)\n",
    "\n",
    "        seq_len = x.size(0)\n",
    "        mask = self.generate_causal_mask(seq_len, x.device)\n",
    "\n",
    "        out = self.transformer(x, mask=mask)  # (T, B, D)\n",
    "        return self.output(out[-1])           # (B, vocab_size) - 마지막 토큰 위치 예측"
   ]
  },
  {
   "cell_type": "code",
   "execution_count": null,
   "metadata": {},
   "outputs": [],
   "source": [
    "# 고정값(장비, 브라우저, 사업군) BroadCast Context Embedding\n",
    "\n",
    "import torch\n",
    "import torch.nn as nn\n",
    "\n",
    "class PositionalEncoding(nn.Module): # 토큰 위치 인코딩. 이거 중요!\n",
    "    def __init__(self, d_model, max_len=512):\n",
    "        super().__init__()\n",
    "        self.pe = nn.Embedding(max_len, d_model)\n",
    "\n",
    "    def forward(self, x):\n",
    "        # x: (B, T, D)\n",
    "        positions = torch.arange(x.size(1), device=x.device).unsqueeze(0)  # (1, T)\n",
    "        return x + self.pe(positions)\n",
    "\n",
    "# set args which are fixed values.\n",
    "class TransformerWithContext(nn.Module):\n",
    "    def __init__(\n",
    "        self,\n",
    "        vocab_size,\n",
    "        action_size,\n",
    "        device_type_size,\n",
    "        browser_type_size,\n",
    "        os_type_size,\n",
    "        emb_dim=128,\n",
    "        nhead=4,\n",
    "        num_layers=2,\n",
    "        max_len=512\n",
    "    ):\n",
    "        super().__init__()\n",
    "        # Embeddings\n",
    "        self.page_embedding = nn.Embedding(vocab_size, emb_dim)\n",
    "        self.action_embedding = nn.Embedding(action_size, emb_dim)\n",
    "        self.device_embedding = nn.Embedding(device_type_size, emb_dim)\n",
    "        self.browser_embedding = nn.Embedding(browser_type_size, emb_dim)\n",
    "        self.os_embedding = nn.Embedding(os_type_size, emb_dim)\n",
    "\n",
    "        self.pos_encoder = PositionalEncoding(emb_dim, max_len)\n",
    "\n",
    "        # Transformer\n",
    "        encoder_layer = nn.TransformerEncoderLayer(d_model=emb_dim, nhead=nhead)\n",
    "        self.transformer = nn.TransformerEncoder(encoder_layer, num_layers=num_layers)\n",
    "\n",
    "        # Output layer\n",
    "        self.output = nn.Linear(emb_dim, vocab_size)\n",
    "\n",
    "    def generate_causal_mask(self, seq_len, device):\n",
    "        mask = torch.triu(torch.ones(seq_len, seq_len), diagonal=1)\n",
    "        return mask.masked_fill(mask == 1, float('-inf')).to(device)\n",
    "\n",
    "    def forward(self, page_seq, action_seq, device_id, browser_id, os_id):\n",
    "        \"\"\"\n",
    "        page_seq, action_seq: (B, T)\n",
    "        device_id, browser_id, os_id: (B,)\n",
    "        \"\"\"\n",
    "        x_page = self.page_embedding(page_seq)     # (B, T, D)\n",
    "        x_action = self.action_embedding(action_seq)  # (B, T, D)\n",
    "\n",
    "        # Broadcast context embeddings to (B, T, D)\n",
    "        device_emb = self.device_embedding(device_id).unsqueeze(1).expand(-1, page_seq.size(1), -1)\n",
    "        browser_emb = self.browser_embedding(browser_id).unsqueeze(1).expand(-1, page_seq.size(1), -1)\n",
    "        os_emb = self.os_embedding(os_id).unsqueeze(1).expand(-1, page_seq.size(1), -1)\n",
    "\n",
    "        # Combine all embeddings\n",
    "        x = x_page + x_action + device_emb + browser_emb + os_emb\n",
    "        x = self.pos_encoder(x)       # (B, T, D)\n",
    "        x = x.permute(1, 0, 2)        # (T, B, D)\n",
    "\n",
    "        mask = self.generate_causal_mask(x.size(0), x.device)\n",
    "        x = self.transformer(x, mask=mask)  # (T, B, D)\n",
    "\n",
    "        return self.output(x[-1])"
   ]
  },
  {
   "cell_type": "markdown",
   "metadata": {},
   "source": [
    "# 3. Train"
   ]
  },
  {
   "cell_type": "code",
   "execution_count": null,
   "metadata": {},
   "outputs": [],
   "source": [
    "# simple\n",
    "\n",
    "# train_model.py\n",
    "import torch\n",
    "from torch.utils.data import DataLoader, TensorDataset\n",
    "# from model import SimpleTransformer\n",
    "\n",
    "# 예시용 dummy 데이터\n",
    "vocab_size = 100\n",
    "X = torch.randint(0, vocab_size, (500, 10))  # (samples, seq_len)\n",
    "y = torch.randint(0, vocab_size, (500,))     # (samples,)\n",
    "\n",
    "dataset = TensorDataset(X, y)\n",
    "loader = DataLoader(dataset, batch_size=32, shuffle=True)\n",
    "\n",
    "device = torch.device(\"mps\" if torch.backends.mps.is_available() else \"cpu\")\n",
    "model = SimpleTransformer(vocab_size).to(device)\n",
    "\n",
    "criterion = torch.nn.CrossEntropyLoss()\n",
    "optimizer = torch.optim.Adam(model.parameters(), lr=1e-3)\n",
    "\n",
    "for epoch in range(10):\n",
    "    model.train()\n",
    "    total_loss = 0\n",
    "    for xb, yb in loader:\n",
    "        xb, yb = xb.to(device), yb.to(device)\n",
    "        optimizer.zero_grad()\n",
    "        out = model(xb)\n",
    "        loss = criterion(out, yb)\n",
    "        loss.backward()\n",
    "        optimizer.step()\n",
    "        total_loss += loss.item()\n",
    "    print(f\"Epoch {epoch+1}: Loss = {total_loss:.4f}\")\n",
    "\n",
    "torch.save(model.state_dict(), \"model.pt\")"
   ]
  },
  {
   "cell_type": "code",
   "execution_count": null,
   "metadata": {},
   "outputs": [],
   "source": [
    "# train_model.py\n",
    "import torch\n",
    "from torch.utils.data import DataLoader, TensorDataset\n",
    "# from model import SimpleTransformerWithPositionalEncoding\n",
    "\n",
    "# 설정\n",
    "vocab_size = 100\n",
    "seq_len = 10\n",
    "batch_size = 32\n",
    "epochs = 10\n",
    "device = torch.device(\"mps\" if torch.backends.mps.is_available() else \"cuda\" if torch.cuda.is_available() else \"cpu\")\n",
    "\n",
    "# 예제 데이터 (임시)\n",
    "X = torch.randint(0, vocab_size, (500, seq_len))  # (samples, seq_len)\n",
    "y = torch.randint(0, vocab_size, (500,))          # (samples,)\n",
    "\n",
    "dataset = TensorDataset(X, y)\n",
    "loader = DataLoader(dataset, batch_size=batch_size, shuffle=True)\n",
    "\n",
    "# 모델 정의\n",
    "model = SimpleTransformerWithPositionalEncoding(vocab_size=vocab_size).to(device)\n",
    "criterion = torch.nn.CrossEntropyLoss()\n",
    "optimizer = torch.optim.Adam(model.parameters(), lr=1e-3)\n",
    "\n",
    "# 훈련 루프\n",
    "for epoch in range(epochs):\n",
    "    model.train()\n",
    "    total_loss = 0\n",
    "    for xb, yb in loader:\n",
    "        xb, yb = xb.to(device), yb.to(device)\n",
    "        optimizer.zero_grad()\n",
    "        logits = model(xb)\n",
    "        loss = criterion(logits, yb)\n",
    "        loss.backward()\n",
    "        optimizer.step()\n",
    "        total_loss += loss.item()\n",
    "    print(f\"📈 Epoch {epoch+1}: Loss = {total_loss:.4f}\")\n",
    "\n",
    "# 모델 저장\n",
    "torch.save(model.state_dict(), \"model.pt\")\n",
    "print(\"✅ 모델이 저장되었습니다: model.pt\")"
   ]
  },
  {
   "cell_type": "code",
   "execution_count": null,
   "metadata": {},
   "outputs": [],
   "source": [
    "# train_model_with_context.py\n",
    "import torch\n",
    "from torch.utils.data import DataLoader, TensorDataset\n",
    "\n",
    "# 설정\n",
    "vocab_size = 100 # 토큰 사이즈\n",
    "action_size = 5 # 고정값 갯수: click, scroll, hover, focus, submit\n",
    "device_size = 10 # 고정값 갯수: pc, mobile, tablet\n",
    "browser_size = 10 # 고정값 갯수: chrome, firefox, safari, edge, ie, opera, other\n",
    "os_size = 10 # 고정값 갯수: windows, mac, linux, ios, android, other\n",
    "seq_len = 10 # 토큰 갯수이자, 시퀀스 길이: \n",
    "batch_size = 32 \n",
    "epochs = 10\n",
    "device = torch.device(\"mps\" if torch.backends.mps.is_available() else \"cuda\" if torch.cuda.is_available() else \"cpu\")\n",
    "\n",
    "# 1️⃣ 샘플 데이터 생성\n",
    "num_samples = 500\n",
    "page_seq = torch.randint(0, vocab_size, (num_samples, seq_len))\n",
    "action_seq = torch.randint(0, action_size, (num_samples, seq_len))\n",
    "device_ids = torch.randint(0, device_size, (num_samples,))\n",
    "browser_ids = torch.randint(0, browser_size, (num_samples,))\n",
    "os_ids = torch.randint(0, os_size, (num_samples,))\n",
    "labels = torch.randint(0, vocab_size, (num_samples,))  # 다음 페이지 예측용\n",
    "\n",
    "# 2️⃣ Dataset 구성\n",
    "dataset = TensorDataset(page_seq, action_seq, device_ids, browser_ids, os_ids, labels)\n",
    "loader = DataLoader(dataset, batch_size=batch_size, shuffle=True)\n",
    "\n",
    "# 3️⃣ 모델 초기화\n",
    "model = TransformerWithContext(\n",
    "    vocab_size=vocab_size,\n",
    "    action_size=action_size,\n",
    "    device_type_size=device_size,\n",
    "    browser_type_size=browser_size,\n",
    "    os_type_size=os_size,\n",
    ").to(device)\n",
    "\n",
    "criterion = torch.nn.CrossEntropyLoss()\n",
    "optimizer = torch.optim.Adam(model.parameters(), lr=1e-3)\n",
    "\n",
    "# 4️⃣ 학습 루프\n",
    "for epoch in range(epochs):\n",
    "    model.train()\n",
    "    total_loss = 0\n",
    "\n",
    "    for batch in loader:\n",
    "        page_seq, action_seq, device_id, browser_id, os_id, label = [x.to(device) for x in batch]\n",
    "\n",
    "        optimizer.zero_grad()\n",
    "        logits = model(page_seq, action_seq, device_id, browser_id, os_id)\n",
    "        loss = criterion(logits, label)\n",
    "        loss.backward()\n",
    "        optimizer.step()\n",
    "\n",
    "        total_loss += loss.item()\n",
    "\n",
    "    print(f\"📈 Epoch {epoch+1}: Loss = {total_loss:.4f}\")\n",
    "\n",
    "# 5️⃣ 모델 저장\n",
    "torch.save(model.state_dict(), \"context_model.pt\")\n",
    "print(\"✅ 모델이 저장되었습니다: context_model.pt\")"
   ]
  },
  {
   "cell_type": "markdown",
   "metadata": {},
   "source": []
  }
 ],
 "metadata": {
  "kernelspec": {
   "display_name": ".venv",
   "language": "python",
   "name": "python3"
  },
  "language_info": {
   "codemirror_mode": {
    "name": "ipython",
    "version": 3
   },
   "file_extension": ".py",
   "mimetype": "text/x-python",
   "name": "python",
   "nbconvert_exporter": "python",
   "pygments_lexer": "ipython3",
   "version": "3.11.6"
  }
 },
 "nbformat": 4,
 "nbformat_minor": 2
}
